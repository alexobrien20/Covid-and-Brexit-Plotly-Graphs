{
 "cells": [
  {
   "cell_type": "code",
   "execution_count": 1,
   "metadata": {},
   "outputs": [],
   "source": [
    "import numpy as np\n",
    "import pandas as pd\n",
    "import plotly.express as px\n",
    "import json"
   ]
  },
  {
   "cell_type": "code",
   "execution_count": null,
   "metadata": {},
   "outputs": [],
   "source": [
    "brexit_region_data = pd.read_csv('brexit_region_data.csv')\n",
    "with open(\"all_eer.geojson\") as f:\n",
    "    regional_json = json.load(f) \n",
    "regional_json['features'][5]['properties']['EER13NM'] = 'East'    \n",
    "regional_brexit_fig = px.choropleth(brexit_region_data, geojson=regional_json, color='Pct_Leave',\n",
    "                locations=brexit_region_data[\"Region\"], featureidkey=\"properties.EER13NM\",\n",
    "                projection='natural earth',labels={'Pct_Leave':'Leave Percentage'}\n",
    "               )\n",
    "regional_brexit_fig.update_geos(fitbounds=\"locations\", visible=False)\n",
    "regional_brexit_fig.update_layout(margin={\"r\":0,\"t\":0,\"l\":0,\"b\":0})\n",
    "regional_brexit_fig.layout.update(dragmode=False)\n",
    "config = dict({\n",
    "    'scrollZoom': False,\n",
    "    'displayModeBar': False,\n",
    "    'editable': False\n",
    "})\n",
    "regional_brexit_fig.show(config=config)"
   ]
  },
  {
   "cell_type": "markdown",
   "metadata": {},
   "source": [
    "<img src='covid_map.PNG'>"
   ]
  },
  {
   "cell_type": "code",
   "execution_count": 3,
   "metadata": {},
   "outputs": [],
   "source": [
    "div = regional_brexit_fig.to_html(full_html=False,config=config)"
   ]
  },
  {
   "cell_type": "code",
   "execution_count": null,
   "metadata": {},
   "outputs": [],
   "source": [
    "covid_region_data = pd.read_csv('covid_data_map.csv')   \n",
    "covid_regional_fig = px.choropleth(covid_region_data, geojson=regional_json, color='pctOfPop',\n",
    "                locations=covid_region_data[\"areaName\"], featureidkey=\"properties.EER13NM\",\n",
    "                projection='natural earth', hover_data=['totalPop','cumCasesByPublishDate'],\n",
    "                labels={'totalPop' : \"Population\",'cumCasesByPublishDate' : 'Cumulative Cases',\n",
    "                       'areaName':'Region','pctOfPop' : 'Cases Percentage'}\n",
    "               )\n",
    "covid_regional_fig.update_geos(fitbounds=\"locations\", visible=False)\n",
    "covid_regional_fig.update_layout(margin={\"r\":0,\"t\":0,\"l\":0,\"b\":0})\n",
    "covid_regional_fig.layout.update(dragmode=False)\n",
    "config = dict({\n",
    "    'scrollZoom': False,\n",
    "    'displayModeBar': False,\n",
    "    'editable': False\n",
    "})\n",
    "div = covid_regional_fig.to_html(full_html=False,config=config)\n",
    "covid_regional_fig.show(config=config)"
   ]
  },
  {
   "cell_type": "markdown",
   "metadata": {},
   "source": [
    "<img src='brexit_map.png'>"
   ]
  },
  {
   "cell_type": "code",
   "execution_count": null,
   "metadata": {},
   "outputs": [],
   "source": [
    "div = covid_regional_fig.to_html(full_html=False,config=config)"
   ]
  },
  {
   "cell_type": "code",
   "execution_count": null,
   "metadata": {},
   "outputs": [],
   "source": []
  }
 ],
 "metadata": {
  "kernelspec": {
   "display_name": "Python 3.7 (tensorflow)",
   "language": "python",
   "name": "tensorflow"
  },
  "language_info": {
   "codemirror_mode": {
    "name": "ipython",
    "version": 3
   },
   "file_extension": ".py",
   "mimetype": "text/x-python",
   "name": "python",
   "nbconvert_exporter": "python",
   "pygments_lexer": "ipython3",
   "version": "3.7.6"
  }
 },
 "nbformat": 4,
 "nbformat_minor": 2
}
