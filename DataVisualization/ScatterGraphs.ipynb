{
 "cells": [
  {
   "cell_type": "code",
   "execution_count": 1,
   "metadata": {},
   "outputs": [],
   "source": [
    "import numpy as np\n",
    "import pandas as pd\n",
    "import plotly.express as px\n",
    "import plotly.graph_objects as go"
   ]
  },
  {
   "cell_type": "code",
   "execution_count": 2,
   "metadata": {},
   "outputs": [],
   "source": [
    "covid_cases = pd.read_csv('complete_covid_cases.csv')\n",
    "covid_deaths = pd.read_csv('complete_covid_deaths.csv')"
   ]
  },
  {
   "cell_type": "code",
   "execution_count": 26,
   "metadata": {},
   "outputs": [
    {
     "name": "stdout",
     "output_type": "stream",
     "text": [
      "Correlation between Leave Percentage and Cases Per Population 0.2833102231249553\n"
     ]
    }
   ],
   "source": [
    "s1 = covid_cases['Pct_Leave']\n",
    "s2 = covid_cases['PctOfPop']\n",
    "print(f\"Correlation between Leave Percentage and Cases Per Population {s1.corr(s2)}\")"
   ]
  },
  {
   "cell_type": "code",
   "execution_count": 27,
   "metadata": {},
   "outputs": [
    {
     "name": "stdout",
     "output_type": "stream",
     "text": [
      "Correlation between Leave Percentage and Cases Per Population 0.5318038147842573\n"
     ]
    }
   ],
   "source": [
    "s1 = covid_deaths['Pct_Leave']\n",
    "s2 = covid_deaths['PctOfPop']\n",
    "print(f\"Correlation between Leave Percentage and Cases Per Population {s1.corr(s2)}\")"
   ]
  },
  {
   "cell_type": "code",
   "execution_count": 55,
   "metadata": {},
   "outputs": [
    {
     "data": {
      "application/vnd.plotly.v1+json": {
       "config": {
        "displayModeBar": false,
        "editable": false,
        "plotlyServerURL": "https://plot.ly",
        "scrollZoom": false
       },
       "data": [
        {
         "hovertext": [
          "Hartlepool",
          "Middlesbrough",
          "Redcar and Cleveland",
          "Stockton-on-Tees",
          "Darlington",
          "Halton",
          "Warrington",
          "Blackburn with Darwen",
          "Blackpool",
          "Kingston upon Hull, City of",
          "East Riding of Yorkshire",
          "North East Lincolnshire",
          "North Lincolnshire",
          "York",
          "Derby",
          "Leicester",
          "Rutland",
          "Nottingham",
          "Herefordshire, County of",
          "Telford and Wrekin",
          "Stoke-on-Trent",
          "Bath and North East Somerset",
          "Bristol, City of",
          "North Somerset",
          "South Gloucestershire",
          "Plymouth",
          "Torbay",
          "Swindon",
          "Peterborough",
          "Luton",
          "Southend-on-Sea",
          "Thurrock",
          "Medway",
          "Bracknell Forest",
          "West Berkshire",
          "Reading",
          "Slough",
          "Windsor and Maidenhead",
          "Wokingham",
          "Milton Keynes",
          "Brighton and Hove",
          "Portsmouth",
          "Southampton",
          "Isle of Wight",
          "County Durham",
          "Cheshire East",
          "Cheshire West and Chester",
          "Shropshire",
          "Wiltshire",
          "Bedford",
          "Central Bedfordshire",
          "Northumberland",
          "Cambridge",
          "East Cambridgeshire",
          "Fenland",
          "Huntingdonshire",
          "South Cambridgeshire",
          "Allerdale",
          "Barrow-in-Furness",
          "Carlisle",
          "Copeland",
          "Eden",
          "South Lakeland",
          "Amber Valley",
          "Bolsover",
          "Chesterfield",
          "Derbyshire Dales",
          "Erewash",
          "High Peak",
          "North East Derbyshire",
          "South Derbyshire",
          "East Devon",
          "Exeter",
          "Mid Devon",
          "North Devon",
          "South Hams",
          "Teignbridge",
          "Torridge",
          "West Devon",
          "Eastbourne",
          "Hastings",
          "Lewes",
          "Rother",
          "Wealden",
          "Basildon",
          "Braintree",
          "Brentwood",
          "Castle Point",
          "Chelmsford",
          "Colchester",
          "Epping Forest",
          "Harlow",
          "Maldon",
          "Rochford",
          "Tendring",
          "Uttlesford",
          "Cheltenham",
          "Cotswold",
          "Forest of Dean",
          "Gloucester",
          "Stroud",
          "Tewkesbury",
          "Basingstoke and Deane",
          "East Hampshire",
          "Eastleigh",
          "Fareham",
          "Gosport",
          "Hart",
          "Havant",
          "New Forest",
          "Rushmoor",
          "Test Valley",
          "Winchester",
          "Broxbourne",
          "Dacorum",
          "Hertsmere",
          "North Hertfordshire",
          "Three Rivers",
          "Watford",
          "Ashford",
          "Canterbury",
          "Dartford",
          "Dover",
          "Gravesham",
          "Maidstone",
          "Sevenoaks",
          "Swale",
          "Thanet",
          "Tonbridge and Malling",
          "Tunbridge Wells",
          "Burnley",
          "Chorley",
          "Fylde",
          "Hyndburn",
          "Lancaster",
          "Pendle",
          "Preston",
          "Ribble Valley",
          "Rossendale",
          "South Ribble",
          "West Lancashire",
          "Wyre",
          "Blaby",
          "Charnwood",
          "Harborough",
          "Hinckley and Bosworth",
          "Melton",
          "North West Leicestershire",
          "Oadby and Wigston",
          "Boston",
          "East Lindsey",
          "Lincoln",
          "North Kesteven",
          "South Holland",
          "South Kesteven",
          "West Lindsey",
          "Breckland",
          "Broadland",
          "Great Yarmouth",
          "King's Lynn and West Norfolk",
          "North Norfolk",
          "Norwich",
          "South Norfolk",
          "Corby",
          "Daventry",
          "East Northamptonshire",
          "Kettering",
          "Northampton",
          "South Northamptonshire",
          "Wellingborough",
          "Craven",
          "Hambleton",
          "Harrogate",
          "Richmondshire",
          "Ryedale",
          "Scarborough",
          "Selby",
          "Ashfield",
          "Bassetlaw",
          "Broxtowe",
          "Gedling",
          "Mansfield",
          "Newark and Sherwood",
          "Rushcliffe",
          "Cherwell",
          "Oxford",
          "South Oxfordshire",
          "Vale of White Horse",
          "West Oxfordshire",
          "Mendip",
          "Sedgemoor",
          "South Somerset",
          "Cannock Chase",
          "East Staffordshire",
          "Lichfield",
          "Newcastle-under-Lyme",
          "South Staffordshire",
          "Stafford",
          "Staffordshire Moorlands",
          "Tamworth",
          "Babergh",
          "Ipswich",
          "Mid Suffolk",
          "Elmbridge",
          "Epsom and Ewell",
          "Guildford",
          "Mole Valley",
          "Reigate and Banstead",
          "Runnymede",
          "Spelthorne",
          "Surrey Heath",
          "Tandridge",
          "Waverley",
          "Woking",
          "North Warwickshire",
          "Nuneaton and Bedworth",
          "Rugby",
          "Stratford-on-Avon",
          "Warwick",
          "Adur",
          "Arun",
          "Chichester",
          "Crawley",
          "Horsham",
          "Mid Sussex",
          "Worthing",
          "Bromsgrove",
          "Malvern Hills",
          "Redditch",
          "Worcester",
          "Wychavon",
          "Wyre Forest",
          "St Albans",
          "Welwyn Hatfield",
          "East Hertfordshire",
          "Stevenage",
          "Bolton",
          "Bury",
          "Manchester",
          "Oldham",
          "Rochdale",
          "Salford",
          "Stockport",
          "Tameside",
          "Trafford",
          "Wigan",
          "Knowsley",
          "Liverpool",
          "St. Helens",
          "Sefton",
          "Wirral",
          "Barnsley",
          "Doncaster",
          "Rotherham",
          "Sheffield",
          "Newcastle upon Tyne",
          "North Tyneside",
          "South Tyneside",
          "Sunderland",
          "Birmingham",
          "Coventry",
          "Dudley",
          "Sandwell",
          "Solihull",
          "Walsall",
          "Wolverhampton",
          "Bradford",
          "Calderdale",
          "Kirklees",
          "Leeds",
          "Wakefield",
          "Gateshead",
          "Barking and Dagenham",
          "Barnet",
          "Bexley",
          "Brent",
          "Bromley",
          "Camden",
          "Croydon",
          "Ealing",
          "Enfield",
          "Greenwich",
          "Hammersmith and Fulham",
          "Haringey",
          "Harrow",
          "Havering",
          "Hillingdon",
          "Hounslow",
          "Islington",
          "Kensington and Chelsea",
          "Kingston upon Thames",
          "Lambeth",
          "Lewisham",
          "Merton",
          "Newham",
          "Redbridge",
          "Richmond upon Thames",
          "Southwark",
          "Sutton",
          "Tower Hamlets",
          "Waltham Forest",
          "Wandsworth",
          "Westminster",
          "Clackmannanshire",
          "Dumfries and Galloway",
          "East Ayrshire",
          "East Lothian",
          "East Renfrewshire",
          "Falkirk",
          "Highland",
          "Inverclyde",
          "Midlothian",
          "Moray",
          "North Ayrshire",
          "Orkney Islands",
          "Scottish Borders",
          "Shetland Islands",
          "South Ayrshire",
          "South Lanarkshire",
          "Stirling",
          "Aberdeen City",
          "Aberdeenshire",
          "Argyll and Bute",
          "City of Edinburgh",
          "Renfrewshire",
          "West Dunbartonshire",
          "West Lothian",
          "Angus",
          "Dundee City",
          "East Dunbartonshire",
          "Fife",
          "Perth and Kinross",
          "Glasgow City",
          "North Lanarkshire",
          "Isle of Anglesey",
          "Gwynedd",
          "Conwy",
          "Denbighshire",
          "Flintshire",
          "Wrexham",
          "Ceredigion",
          "Pembrokeshire",
          "Carmarthenshire",
          "Swansea",
          "Neath Port Talbot",
          "Bridgend",
          "Vale of Glamorgan",
          "Cardiff",
          "Rhondda Cynon Taf",
          "Caerphilly",
          "Blaenau Gwent",
          "Torfaen",
          "Monmouthshire",
          "Newport",
          "Powys",
          "Merthyr Tydfil"
         ],
         "mode": "markers",
         "name": "Cases",
         "type": "scatter",
         "visible": false,
         "x": [
          69.57,
          65.48,
          66.19,
          61.73,
          56.18,
          57.42,
          54.27,
          56.34,
          67.46,
          67.62,
          60.4,
          69.87,
          66.3,
          41.96,
          57.22,
          48.92,
          50.57,
          50.84,
          59.22,
          63.22,
          69.36,
          42.15,
          38.27,
          52.17,
          52.68,
          59.94,
          63.16,
          54.66,
          60.89,
          56.55,
          58.08,
          72.28,
          64.08,
          53.94,
          48.22,
          41.97,
          54.33,
          46.1,
          43.31,
          51.41,
          31.38,
          58.08,
          53.8,
          61.95,
          57.55,
          51.18,
          50.68,
          56.87,
          52.49,
          51.78,
          56.13,
          54.11,
          26.15,
          50.92,
          71.39,
          54.24,
          39.77,
          58.65,
          60.62,
          60.14,
          62,
          53.32,
          47.14,
          60.28,
          70.83,
          60.04,
          51.56,
          61.23,
          50.55,
          62.78,
          60.35,
          54.11,
          44.72,
          53.34,
          57.04,
          47.15,
          53.9,
          60.83,
          53.2,
          57.33,
          54.88,
          47.93,
          58.53,
          54.5,
          68.62,
          61.13,
          59.15,
          72.7,
          52.83,
          53.6,
          62.69,
          68.1,
          62.58,
          66.61,
          69.5,
          50.68,
          43.83,
          48.9,
          58.58,
          58.5,
          45.39,
          53.25,
          51.9,
          49.48,
          52.45,
          55.1,
          63.86,
          47.6,
          62.36,
          57.76,
          58.21,
          51.94,
          41.07,
          66.26,
          50.67,
          50.84,
          45.63,
          51.27,
          50.27,
          59.43,
          51.04,
          64.22,
          62.15,
          65.38,
          58.75,
          54.38,
          62.46,
          63.85,
          55.7,
          45.11,
          66.61,
          56.83,
          56.96,
          66.19,
          51.08,
          63.15,
          53.31,
          56.39,
          60.68,
          58.56,
          55.31,
          63.77,
          59.47,
          53.81,
          50.75,
          60.33,
          58.11,
          60.7,
          54.58,
          75.56,
          70.65,
          56.94,
          62.26,
          73.59,
          59.93,
          61.82,
          64.22,
          54.37,
          71.5,
          66.4,
          58.91,
          43.76,
          51.69,
          64.25,
          58.6,
          58.76,
          60.99,
          58.38,
          54.34,
          62.42,
          52.83,
          53.66,
          49.03,
          56.78,
          55.26,
          61.99,
          59.17,
          69.84,
          67.83,
          54.65,
          55.55,
          70.86,
          60.39,
          42.45,
          50.31,
          29.73,
          45.02,
          43.3,
          46.34,
          48.93,
          61.2,
          57.25,
          68.86,
          63.21,
          58.81,
          63.04,
          64.85,
          55.99,
          64.73,
          67.47,
          54.19,
          58.26,
          55.23,
          40.47,
          47.92,
          43.83,
          46.92,
          50.49,
          54.26,
          60.3,
          50.98,
          52.84,
          41.61,
          43.85,
          66.88,
          66.01,
          56.7,
          51.56,
          41.22,
          54.57,
          62.48,
          50.92,
          58.41,
          48.54,
          46.91,
          52.99,
          55.37,
          52.16,
          62.29,
          53.68,
          57.86,
          63.15,
          37.29,
          52.99,
          50.36,
          59.25,
          58.29,
          54.12,
          39.64,
          60.86,
          60.07,
          56.81,
          47.67,
          61.14,
          42.31,
          63.9,
          51.56,
          41.81,
          58.02,
          48.13,
          48.3,
          68.31,
          68.96,
          67.89,
          50.99,
          49.3,
          53.4,
          62.05,
          61.34,
          50.42,
          55.6,
          67.6,
          66.72,
          56.16,
          67.86,
          62.57,
          54.23,
          55.68,
          54.67,
          49.69,
          66.36,
          56.85,
          62.44,
          37.77,
          62.95,
          40.26,
          49.35,
          25.06,
          45.71,
          39.6,
          44.18,
          44.41,
          29.98,
          24.43,
          45.37,
          69.66,
          56.37,
          48.94,
          24.78,
          31.31,
          38.39,
          21.38,
          30.14,
          37.06,
          47.16,
          46.03,
          30.71,
          27.19,
          53.72,
          32.54,
          40.9,
          24.97,
          31.03,
          42.22,
          46.94,
          41.4,
          35.4,
          25.68,
          43.24,
          44.05,
          36.2,
          37.94,
          49.87,
          43.12,
          36.84,
          41.53,
          43.49,
          41.04,
          36.92,
          32.28,
          38.9,
          44.99,
          39.43,
          25.56,
          35.19,
          38.01,
          41.75,
          44.74,
          40.22,
          28.6,
          41.41,
          38.91,
          33.41,
          38.34,
          50.94,
          41.95,
          53.98,
          54,
          56.37,
          59.04,
          45.37,
          57.14,
          53.75,
          51.51,
          56.84,
          54.64,
          49.27,
          39.98,
          53.7,
          57.63,
          62.03,
          59.78,
          49.56,
          55.99,
          53.74,
          56.44
         ],
         "y": [
          4.445725633387784,
          4.17151368988509,
          3.4604447685016413,
          4.011695076717271,
          3.353838375326536,
          3.7640058728073567,
          4.043539954479225,
          6.732310816588286,
          3.9033030707227168,
          4.216677316785871,
          3.0272032077567688,
          3.409311682532918,
          2.95834977828338,
          2.751901546876335,
          3.1931349153912527,
          5.2469623740909705,
          1.289853983519924,
          5.259537398618204,
          1.3371299941390349,
          2.452544841927341,
          3.998829839102876,
          1.9882865450481684,
          3.4434164837702346,
          2.0413667392072607,
          2.315034041523292,
          1.5932850057230066,
          1.4618681383197325,
          1.8884483309555204,
          2.4260972317671894,
          3.0612244897959178,
          1.5945392491467578,
          2.039680855335234,
          2.9161102255919813,
          1.3610882177741148,
          1.1195960870937205,
          1.8586969959203856,
          2.8761727709828198,
          1.699885089352934,
          1.3966888539554343,
          1.6295735497686086,
          1.462777386252299,
          2.198180591424117,
          1.6327419610327896,
          0.7025414224347716,
          3.7832912653227537,
          2.459182823465712,
          2.7309215876596973,
          1.8571127946127943,
          1.091347615314465,
          2.055490155344736,
          1.3854244616280038,
          2.7940601797577176,
          1.5905703617045144,
          0.7947462154942119,
          1.3686794305351009,
          1.1878873698465413,
          0.9403718743321222,
          1.5415145098761265,
          3.0589568822801234,
          2.5147683983878983,
          1.7702359825763017,
          1.7745479127936454,
          2.0925319732034104,
          2.8904305211983115,
          3.285668181028276,
          2.698760724499523,
          1.7891462150017283,
          2.641911745585979,
          2.6449830574320683,
          2.9429737241528846,
          2.9498140050903867,
          1.174427825326078,
          2.1133138008447165,
          0.9038889091372964,
          0.991301662463328,
          0.7172084042113006,
          0.7587785007789033,
          0.6928677106068818,
          0.8262241020861709,
          1.2521085353511014,
          0.97775763266099,
          0.9925630398574584,
          1.0636969192339716,
          1.166744078030655,
          2.4845218190268112,
          1.1755917276087129,
          2.3123563703405567,
          1.8423032663538996,
          1.497858600354284,
          1.2536850430906084,
          2.1626711418569506,
          1.7653071772313276,
          0.9087268582694144,
          1.3986814394286238,
          1.1981359297493877,
          1.3321063932343018,
          1.4272694443966778,
          1.1172687008969309,
          1.040430459379429,
          1.8926956198500715,
          1.2595445300256742,
          1.148191414348709,
          1.4752353014463535,
          1.3016319455800112,
          1.2958138699245418,
          1.2767458467044643,
          1.3625969494801855,
          1.0837204990059028,
          1.5187767390270956,
          1.0894794709194495,
          1.7272909861626444,
          1.2436588459099556,
          1.4416261543020528,
          2.181354660306952,
          1.4273437449519588,
          1.9529351213793495,
          1.2390506850340646,
          1.7476934946369065,
          2.3007548381084524,
          2.114864033468685,
          2.0182110596514993,
          2.509635365788679,
          2.3033750666632806,
          2.789440709189351,
          2.1847683121297123,
          1.4385093167701863,
          3.6113591236790548,
          3.2975859979425315,
          1.6579267969701783,
          1.2920723695293286,
          5.457714799820063,
          3.3379576368681065,
          3.159197821242881,
          4.896166232740644,
          2.9519714047028858,
          5.47268542643738,
          5.242603136898731,
          3.4752332150834317,
          4.840379396211634,
          3.4453189876159875,
          4.1598866201249285,
          3.1064046176767093,
          3.3075271359060734,
          3.5307854141220654,
          2.3228543712089715,
          2.3299391882336304,
          2.433166045031147,
          2.3761955776896277,
          4.62509865824783,
          3.358841719749761,
          2.683327806275445,
          3.4965105388775317,
          2.08613094983535,
          2.0637977667624368,
          1.8831095882716395,
          2.070724492249156,
          1.2395690443529952,
          1.1928155800065758,
          1.7596843037770795,
          1.4625156061116509,
          0.6867804305731755,
          1.3430744168510311,
          1.1548835888699602,
          1.8056440222659167,
          1.5916230366492146,
          1.848149206046949,
          1.9513441282817168,
          2.6966742353412583,
          1.6816594348608318,
          1.874364861304528,
          2.429036435546533,
          1.9422669607179508,
          2.3260441084119354,
          1.915131211613624,
          1.3940050559768868,
          2.8292431751519445,
          2.4387552416685057,
          2.9182757704154225,
          3.365429639278387,
          3.04736348250068,
          3.0730474316346608,
          2.8221711964725147,
          2.574721657232011,
          2.8678346086723048,
          1.6019614226958931,
          2.344923486622457,
          1.3198927191197898,
          1.1969972133787232,
          1.346673535605506,
          0.8564977030288874,
          1.3338420821900014,
          0.9937925094300396,
          2.79569679045672,
          3.234129966431184,
          2.6929245102905797,
          3.655719594255298,
          3.3263367604681773,
          3.0492424242424243,
          2.84959618022045,
          3.032752685928862,
          1.178886522665044,
          1.48634534339325,
          0.826796284710525,
          1.5519573083811542,
          1.7463132697483472,
          1.5449871810359868,
          1.5863373259212559,
          1.5287600505553016,
          2.1582572911075326,
          1.9440326909979568,
          1.6594815519847712,
          1.4705715485254571,
          1.392407067316826,
          1.837429186550653,
          2.8545599411620497,
          2.811761354449774,
          2.036076559416166,
          1.5780411689649343,
          2.285169700806244,
          0.9300010886300368,
          0.9175282101046291,
          1.0864450296791026,
          1.3762243236751506,
          1.1732305916225634,
          1.325634675742607,
          1.0111241747309396,
          2.432895145222816,
          1.2427253551551498,
          2.4724082523076203,
          1.9412775878761528,
          1.5135243716826463,
          2.10383943292099,
          1.4691617492522837,
          1.556366473509261,
          1.547933862221866,
          1.440036427798964,
          5.428968874978264,
          5.335881459762291,
          5.811618896714889,
          6.418961663362997,
          5.916497311296152,
          5.309194309866556,
          3.7157959669146585,
          4.728181444901167,
          3.7644193904463377,
          5.236686930646075,
          5.288276703212207,
          4.930507868814277,
          4.361934822936568,
          3.882999891465576,
          3.1548311631395225,
          4.392261388769617,
          4.027060822725962,
          4.345712875502524,
          4.4961725425021335,
          5.318010699425401,
          3.4163327930432437,
          4.052962060194997,
          4.159809870185988,
          3.735628157251256,
          2.479805986740992,
          3.483874177539522,
          3.987821586238392,
          2.8968360339042585,
          3.496591681320452,
          3.3502052347194113,
          5.599915520512211,
          4.02071362701284,
          4.5542501256289984,
          4.652400146758638,
          4.081685385516433,
          3.94941971245453,
          2.5058006819911136,
          1.966307035913396,
          2.246190900047123,
          2.135421246865249,
          1.7461244042174184,
          1.4254024567731614,
          1.758940808357684,
          2.5008338063111824,
          2.1189715812746783,
          1.7302095560911577,
          2.128624900752392,
          1.8388442826460003,
          2.1850613154960983,
          2.9416070768092712,
          2.2168996643529835,
          2.2027599871834056,
          1.6187769882087046,
          1.78762433628602,
          2.0692141718354766,
          1.8363115503291068,
          1.526605240614435,
          1.8576795708503595,
          2.345285359098812,
          2.811723925536167,
          1.572071366889036,
          1.6670325878995074,
          1.7853248622479394,
          2.33845016859382,
          2.2716195578790037,
          1.761421027247882,
          1.6462763616603588,
          1.6763678696158322,
          0.7960499798468359,
          2.159659044340628,
          1.057054813708096,
          2.436930807076311,
          1.3543414755422958,
          0.3540686087435865,
          1.3933161953727506,
          1.5412070084360805,
          0.3078689208933417,
          1.8851120676859137,
          0.1706331387516839,
          0.9012206735347588,
          0.33158813263525305,
          1.7724891217476244,
          3.1538389542320533,
          1.5263772423309627,
          1.2244719464730836,
          0.7174304199686076,
          0.8978688715500175,
          1.5194406873297392,
          2.765494137353434,
          2.401889126279096,
          2.0262151829601307,
          1.0817555938037866,
          2.216715778194482,
          2.479749631811488,
          1.2584660687993574,
          1.1161566304705497,
          3.3472327520849134,
          3.0195975041743566,
          1.3920020558799595,
          1.144829800899165,
          1.5562741568048601,
          1.9770941314161512,
          2.119795003203075,
          3.1031870370779,
          0.98906389710434,
          0.9609117932251348,
          2.1290346504494866,
          3.5199378120027687,
          3.6500017444091677,
          3.1207284646614397,
          1.9433028662968703,
          3.361923996260592,
          4.708120565024205,
          3.295871876294353,
          4.534654032234979,
          2.692606506955013,
          1.832117559995771,
          2.745739481238201,
          1.2104051043908333,
          5.440440274508504
         ]
        },
        {
         "hovertext": [
          "Hartlepool",
          "Middlesbrough",
          "Redcar and Cleveland",
          "Stockton-on-Tees",
          "Darlington",
          "Halton",
          "Warrington",
          "Blackburn with Darwen",
          "Blackpool",
          "Kingston upon Hull, City of",
          "East Riding of Yorkshire",
          "North East Lincolnshire",
          "North Lincolnshire",
          "York",
          "Derby",
          "Leicester",
          "Rutland",
          "Nottingham",
          "Herefordshire, County of",
          "Telford and Wrekin",
          "Stoke-on-Trent",
          "Bath and North East Somerset",
          "Bristol, City of",
          "North Somerset",
          "South Gloucestershire",
          "Plymouth",
          "Torbay",
          "Swindon",
          "Peterborough",
          "Luton",
          "Southend-on-Sea",
          "Thurrock",
          "Medway",
          "Bracknell Forest",
          "West Berkshire",
          "Reading",
          "Slough",
          "Windsor and Maidenhead",
          "Wokingham",
          "Milton Keynes",
          "Brighton and Hove",
          "Portsmouth",
          "Southampton",
          "Isle of Wight",
          "County Durham",
          "Cheshire East",
          "Cheshire West and Chester",
          "Shropshire",
          "Wiltshire",
          "Bedford",
          "Central Bedfordshire",
          "Northumberland",
          "Cambridge",
          "East Cambridgeshire",
          "Fenland",
          "Huntingdonshire",
          "South Cambridgeshire",
          "Allerdale",
          "Barrow-in-Furness",
          "Carlisle",
          "Copeland",
          "Eden",
          "South Lakeland",
          "Amber Valley",
          "Bolsover",
          "Chesterfield",
          "Derbyshire Dales",
          "Erewash",
          "High Peak",
          "North East Derbyshire",
          "South Derbyshire",
          "East Devon",
          "Exeter",
          "Mid Devon",
          "North Devon",
          "South Hams",
          "Teignbridge",
          "Torridge",
          "West Devon",
          "Eastbourne",
          "Hastings",
          "Lewes",
          "Rother",
          "Wealden",
          "Basildon",
          "Braintree",
          "Brentwood",
          "Castle Point",
          "Chelmsford",
          "Colchester",
          "Epping Forest",
          "Harlow",
          "Maldon",
          "Rochford",
          "Tendring",
          "Uttlesford",
          "Cheltenham",
          "Cotswold",
          "Forest of Dean",
          "Gloucester",
          "Stroud",
          "Tewkesbury",
          "Basingstoke and Deane",
          "East Hampshire",
          "Eastleigh",
          "Fareham",
          "Gosport",
          "Hart",
          "Havant",
          "New Forest",
          "Rushmoor",
          "Test Valley",
          "Winchester",
          "Broxbourne",
          "Dacorum",
          "Hertsmere",
          "North Hertfordshire",
          "Three Rivers",
          "Watford",
          "Ashford",
          "Canterbury",
          "Dartford",
          "Dover",
          "Gravesham",
          "Maidstone",
          "Sevenoaks",
          "Swale",
          "Thanet",
          "Tonbridge and Malling",
          "Tunbridge Wells",
          "Burnley",
          "Chorley",
          "Fylde",
          "Hyndburn",
          "Lancaster",
          "Pendle",
          "Preston",
          "Ribble Valley",
          "Rossendale",
          "South Ribble",
          "West Lancashire",
          "Wyre",
          "Blaby",
          "Charnwood",
          "Harborough",
          "Hinckley and Bosworth",
          "Melton",
          "North West Leicestershire",
          "Oadby and Wigston",
          "Boston",
          "East Lindsey",
          "Lincoln",
          "North Kesteven",
          "South Holland",
          "South Kesteven",
          "West Lindsey",
          "Breckland",
          "Broadland",
          "Great Yarmouth",
          "King's Lynn and West Norfolk",
          "North Norfolk",
          "Norwich",
          "South Norfolk",
          "Corby",
          "Daventry",
          "East Northamptonshire",
          "Kettering",
          "Northampton",
          "South Northamptonshire",
          "Wellingborough",
          "Craven",
          "Hambleton",
          "Harrogate",
          "Richmondshire",
          "Ryedale",
          "Scarborough",
          "Selby",
          "Ashfield",
          "Bassetlaw",
          "Broxtowe",
          "Gedling",
          "Mansfield",
          "Newark and Sherwood",
          "Rushcliffe",
          "Cherwell",
          "Oxford",
          "South Oxfordshire",
          "Vale of White Horse",
          "West Oxfordshire",
          "Mendip",
          "Sedgemoor",
          "South Somerset",
          "Cannock Chase",
          "East Staffordshire",
          "Lichfield",
          "Newcastle-under-Lyme",
          "South Staffordshire",
          "Stafford",
          "Staffordshire Moorlands",
          "Tamworth",
          "Babergh",
          "Ipswich",
          "Mid Suffolk",
          "Elmbridge",
          "Epsom and Ewell",
          "Guildford",
          "Mole Valley",
          "Reigate and Banstead",
          "Runnymede",
          "Spelthorne",
          "Surrey Heath",
          "Tandridge",
          "Waverley",
          "Woking",
          "North Warwickshire",
          "Nuneaton and Bedworth",
          "Rugby",
          "Stratford-on-Avon",
          "Warwick",
          "Adur",
          "Arun",
          "Chichester",
          "Crawley",
          "Horsham",
          "Mid Sussex",
          "Worthing",
          "Bromsgrove",
          "Malvern Hills",
          "Redditch",
          "Worcester",
          "Wychavon",
          "Wyre Forest",
          "St Albans",
          "Welwyn Hatfield",
          "East Hertfordshire",
          "Stevenage",
          "Bolton",
          "Bury",
          "Manchester",
          "Oldham",
          "Rochdale",
          "Salford",
          "Stockport",
          "Tameside",
          "Trafford",
          "Wigan",
          "Knowsley",
          "Liverpool",
          "St. Helens",
          "Sefton",
          "Wirral",
          "Barnsley",
          "Doncaster",
          "Rotherham",
          "Sheffield",
          "Newcastle upon Tyne",
          "North Tyneside",
          "South Tyneside",
          "Sunderland",
          "Birmingham",
          "Coventry",
          "Dudley",
          "Sandwell",
          "Solihull",
          "Walsall",
          "Wolverhampton",
          "Bradford",
          "Calderdale",
          "Kirklees",
          "Leeds",
          "Wakefield",
          "Gateshead",
          "Barking and Dagenham",
          "Barnet",
          "Bexley",
          "Brent",
          "Bromley",
          "Camden",
          "Croydon",
          "Ealing",
          "Enfield",
          "Greenwich",
          "Hammersmith and Fulham",
          "Haringey",
          "Harrow",
          "Havering",
          "Hillingdon",
          "Hounslow",
          "Islington",
          "Kensington and Chelsea",
          "Kingston upon Thames",
          "Lambeth",
          "Lewisham",
          "Merton",
          "Newham",
          "Redbridge",
          "Richmond upon Thames",
          "Southwark",
          "Sutton",
          "Tower Hamlets",
          "Waltham Forest",
          "Wandsworth",
          "Westminster",
          "Clackmannanshire",
          "Dumfries and Galloway",
          "East Ayrshire",
          "East Lothian",
          "East Renfrewshire",
          "Falkirk",
          "Highland",
          "Inverclyde",
          "Midlothian",
          "Moray",
          "North Ayrshire",
          "Orkney Islands",
          "Scottish Borders",
          "Shetland Islands",
          "South Ayrshire",
          "South Lanarkshire",
          "Stirling",
          "Aberdeen City",
          "Aberdeenshire",
          "Argyll and Bute",
          "City of Edinburgh",
          "Renfrewshire",
          "West Dunbartonshire",
          "West Lothian",
          "Angus",
          "Dundee City",
          "East Dunbartonshire",
          "Fife",
          "Perth and Kinross",
          "Glasgow City",
          "North Lanarkshire",
          "Isle of Anglesey",
          "Gwynedd",
          "Conwy",
          "Denbighshire",
          "Flintshire",
          "Wrexham",
          "Ceredigion",
          "Pembrokeshire",
          "Carmarthenshire",
          "Swansea",
          "Neath Port Talbot",
          "Bridgend",
          "Vale of Glamorgan",
          "Cardiff",
          "Rhondda Cynon Taf",
          "Caerphilly",
          "Blaenau Gwent",
          "Torfaen",
          "Monmouthshire",
          "Newport",
          "Powys",
          "Merthyr Tydfil"
         ],
         "mode": "markers",
         "name": "Deaths",
         "type": "scatter",
         "x": [
          69.57,
          65.48,
          66.19,
          61.73,
          56.18,
          57.42,
          54.27,
          56.34,
          67.46,
          67.62,
          60.4,
          69.87,
          66.3,
          41.96,
          57.22,
          48.92,
          50.57,
          50.84,
          59.22,
          63.22,
          69.36,
          42.15,
          38.27,
          52.17,
          52.68,
          59.94,
          63.16,
          54.66,
          60.89,
          56.55,
          58.08,
          72.28,
          64.08,
          53.94,
          48.22,
          41.97,
          54.33,
          46.1,
          43.31,
          51.41,
          31.38,
          58.08,
          53.8,
          61.95,
          57.55,
          51.18,
          50.68,
          56.87,
          52.49,
          51.78,
          56.13,
          54.11,
          58.29,
          54.12,
          39.64,
          60.86,
          60.07,
          56.81,
          47.67,
          61.14,
          42.31,
          63.9,
          51.56,
          41.81,
          58.02,
          48.13,
          48.3,
          68.31,
          68.96,
          67.89,
          50.99,
          49.3,
          53.4,
          62.05,
          61.34,
          50.42,
          55.6,
          67.6,
          66.72,
          56.16,
          67.86,
          62.57,
          54.23,
          55.68,
          54.67,
          49.69,
          66.36,
          56.85,
          62.44,
          37.77,
          62.95,
          40.26,
          49.35,
          25.06,
          45.71,
          39.6,
          44.18,
          44.41,
          29.98,
          24.43,
          45.37,
          69.66,
          56.37,
          48.94,
          24.78,
          31.31,
          38.39,
          21.38,
          30.14,
          37.06,
          47.16,
          46.03,
          30.71,
          27.19,
          53.72,
          32.54,
          40.9,
          24.97,
          31.03,
          42.22,
          46.94,
          41.4,
          35.4,
          25.68,
          43.24,
          44.05,
          36.2,
          37.94,
          49.87,
          43.12,
          36.84,
          41.53,
          43.49,
          41.04,
          36.92,
          32.28,
          38.9,
          44.99,
          39.43,
          25.56,
          35.19,
          38.01,
          41.75,
          44.74,
          40.22,
          28.6,
          41.41,
          38.91,
          33.41,
          38.34,
          50.94,
          41.95,
          53.98,
          54,
          56.37,
          59.04,
          45.37,
          57.14,
          53.75,
          51.51,
          56.84,
          54.64,
          49.27,
          39.98,
          53.7,
          57.63,
          62.03,
          59.78,
          49.56,
          55.99,
          53.74,
          56.44
         ],
         "y": [
          0.16655456263412444,
          0.17803943821818696,
          0.15822092599343784,
          0.1515090094655127,
          0.17789762459855996,
          0.14372923267135462,
          0.16332244517032196,
          0.16232898674647284,
          0.21298567187298306,
          0.15628729145655135,
          0.14362215063911854,
          0.12220878273785275,
          0.1317530703689086,
          0.07644170963545376,
          0.15584799185393042,
          0.13183748136772214,
          0.0626142710446565,
          0.11985581255632324,
          0.0772817568373608,
          0.07839692194780211,
          0.15407118478790832,
          0.04087292143086268,
          0.059562731857645074,
          0.09253575879322212,
          0.08032466598618697,
          0.06028233498664633,
          0.07925791111372042,
          0.07470982434190096,
          0.08751155696409059,
          0.13283142143702004,
          0.13488054607508532,
          0.13651407299487786,
          0.12708396157325635,
          0.0660960105753617,
          0.0706847585989271,
          0.11126220793670416,
          0.09562722767973572,
          0.08453197025531296,
          0.09817729182615606,
          0.06791436110399804,
          0.05637966894133421,
          0.05956120146111073,
          0.0681134167590686,
          0.0768845532584238,
          0.18091131006953484,
          0.15124221662258688,
          0.16323151767418406,
          0.10738512576747873,
          0.07159656336495847,
          0.150612838446091,
          0.1084365732657077,
          0.13770259960177894,
          0.19718309859154928,
          0.21885962615843765,
          0.13873363503829195,
          0.2129813166884568,
          0.2324514864305883,
          0.1850606952718731,
          0.17074326143485682,
          0.259610672294508,
          0.1550426788678514,
          0.2415855803226415,
          0.19222865930453,
          0.1752864216270917,
          0.15892792867624664,
          0.19717086936073225,
          0.1728336383641296,
          0.2312995714274141,
          0.19718490493443205,
          0.20571867782420472,
          0.14619058122297401,
          0.12350571296479755,
          0.1183187198491677,
          0.18479758372191607,
          0.2131758520732432,
          0.14748435825036607,
          0.08559408485657607,
          0.1427256557917387,
          0.18602527020855533,
          0.1663785852274303,
          0.19195874988615585,
          0.15985905064228406,
          0.15654641925539484,
          0.10214939348797616,
          0.1409773367562024,
          0.12570306087583638,
          0.15273662693217574,
          0.19202692336245086,
          0.11460456727382035,
          0.10761135628200236,
          0.12485550995420623,
          0.14100694118039486,
          0.1014033989697174,
          0.05517925852408445,
          0.126709937679398,
          0.10415264799330616,
          0.1000617147102704,
          0.08335011912121193,
          0.08317894816439185,
          0.07928620085093077,
          0.13975155279503107,
          0.16682591542349895,
          0.09580604164629974,
          0.10275372620367336,
          0.05980195243064005,
          0.08198348801311735,
          0.09520751294315154,
          0.09722912334296424,
          0.09547413370302313,
          0.10844936770145436,
          0.08636948014068314,
          0.12482717497428103,
          0.08130532928658361,
          0.07496157827055171,
          0.10467702775395084,
          0.055736039046020716,
          0.10036717054837299,
          0.07492181741522763,
          0.07041256405055928,
          null,
          null,
          null,
          null,
          null,
          null,
          null,
          null,
          null,
          null,
          null,
          null,
          null,
          null,
          null,
          null,
          null,
          null,
          null,
          null,
          null,
          null,
          null,
          null,
          null,
          null,
          null,
          null,
          null,
          null,
          null,
          null,
          null,
          null,
          null,
          null,
          null,
          null,
          null,
          null,
          null,
          null,
          null,
          null,
          null,
          null,
          null,
          null,
          null,
          null,
          null,
          null,
          null
         ]
        }
       ],
       "layout": {
        "template": {
         "data": {
          "bar": [
           {
            "error_x": {
             "color": "#2a3f5f"
            },
            "error_y": {
             "color": "#2a3f5f"
            },
            "marker": {
             "line": {
              "color": "#E5ECF6",
              "width": 0.5
             }
            },
            "type": "bar"
           }
          ],
          "barpolar": [
           {
            "marker": {
             "line": {
              "color": "#E5ECF6",
              "width": 0.5
             }
            },
            "type": "barpolar"
           }
          ],
          "carpet": [
           {
            "aaxis": {
             "endlinecolor": "#2a3f5f",
             "gridcolor": "white",
             "linecolor": "white",
             "minorgridcolor": "white",
             "startlinecolor": "#2a3f5f"
            },
            "baxis": {
             "endlinecolor": "#2a3f5f",
             "gridcolor": "white",
             "linecolor": "white",
             "minorgridcolor": "white",
             "startlinecolor": "#2a3f5f"
            },
            "type": "carpet"
           }
          ],
          "choropleth": [
           {
            "colorbar": {
             "outlinewidth": 0,
             "ticks": ""
            },
            "type": "choropleth"
           }
          ],
          "contour": [
           {
            "colorbar": {
             "outlinewidth": 0,
             "ticks": ""
            },
            "colorscale": [
             [
              0,
              "#0d0887"
             ],
             [
              0.1111111111111111,
              "#46039f"
             ],
             [
              0.2222222222222222,
              "#7201a8"
             ],
             [
              0.3333333333333333,
              "#9c179e"
             ],
             [
              0.4444444444444444,
              "#bd3786"
             ],
             [
              0.5555555555555556,
              "#d8576b"
             ],
             [
              0.6666666666666666,
              "#ed7953"
             ],
             [
              0.7777777777777778,
              "#fb9f3a"
             ],
             [
              0.8888888888888888,
              "#fdca26"
             ],
             [
              1,
              "#f0f921"
             ]
            ],
            "type": "contour"
           }
          ],
          "contourcarpet": [
           {
            "colorbar": {
             "outlinewidth": 0,
             "ticks": ""
            },
            "type": "contourcarpet"
           }
          ],
          "heatmap": [
           {
            "colorbar": {
             "outlinewidth": 0,
             "ticks": ""
            },
            "colorscale": [
             [
              0,
              "#0d0887"
             ],
             [
              0.1111111111111111,
              "#46039f"
             ],
             [
              0.2222222222222222,
              "#7201a8"
             ],
             [
              0.3333333333333333,
              "#9c179e"
             ],
             [
              0.4444444444444444,
              "#bd3786"
             ],
             [
              0.5555555555555556,
              "#d8576b"
             ],
             [
              0.6666666666666666,
              "#ed7953"
             ],
             [
              0.7777777777777778,
              "#fb9f3a"
             ],
             [
              0.8888888888888888,
              "#fdca26"
             ],
             [
              1,
              "#f0f921"
             ]
            ],
            "type": "heatmap"
           }
          ],
          "heatmapgl": [
           {
            "colorbar": {
             "outlinewidth": 0,
             "ticks": ""
            },
            "colorscale": [
             [
              0,
              "#0d0887"
             ],
             [
              0.1111111111111111,
              "#46039f"
             ],
             [
              0.2222222222222222,
              "#7201a8"
             ],
             [
              0.3333333333333333,
              "#9c179e"
             ],
             [
              0.4444444444444444,
              "#bd3786"
             ],
             [
              0.5555555555555556,
              "#d8576b"
             ],
             [
              0.6666666666666666,
              "#ed7953"
             ],
             [
              0.7777777777777778,
              "#fb9f3a"
             ],
             [
              0.8888888888888888,
              "#fdca26"
             ],
             [
              1,
              "#f0f921"
             ]
            ],
            "type": "heatmapgl"
           }
          ],
          "histogram": [
           {
            "marker": {
             "colorbar": {
              "outlinewidth": 0,
              "ticks": ""
             }
            },
            "type": "histogram"
           }
          ],
          "histogram2d": [
           {
            "colorbar": {
             "outlinewidth": 0,
             "ticks": ""
            },
            "colorscale": [
             [
              0,
              "#0d0887"
             ],
             [
              0.1111111111111111,
              "#46039f"
             ],
             [
              0.2222222222222222,
              "#7201a8"
             ],
             [
              0.3333333333333333,
              "#9c179e"
             ],
             [
              0.4444444444444444,
              "#bd3786"
             ],
             [
              0.5555555555555556,
              "#d8576b"
             ],
             [
              0.6666666666666666,
              "#ed7953"
             ],
             [
              0.7777777777777778,
              "#fb9f3a"
             ],
             [
              0.8888888888888888,
              "#fdca26"
             ],
             [
              1,
              "#f0f921"
             ]
            ],
            "type": "histogram2d"
           }
          ],
          "histogram2dcontour": [
           {
            "colorbar": {
             "outlinewidth": 0,
             "ticks": ""
            },
            "colorscale": [
             [
              0,
              "#0d0887"
             ],
             [
              0.1111111111111111,
              "#46039f"
             ],
             [
              0.2222222222222222,
              "#7201a8"
             ],
             [
              0.3333333333333333,
              "#9c179e"
             ],
             [
              0.4444444444444444,
              "#bd3786"
             ],
             [
              0.5555555555555556,
              "#d8576b"
             ],
             [
              0.6666666666666666,
              "#ed7953"
             ],
             [
              0.7777777777777778,
              "#fb9f3a"
             ],
             [
              0.8888888888888888,
              "#fdca26"
             ],
             [
              1,
              "#f0f921"
             ]
            ],
            "type": "histogram2dcontour"
           }
          ],
          "mesh3d": [
           {
            "colorbar": {
             "outlinewidth": 0,
             "ticks": ""
            },
            "type": "mesh3d"
           }
          ],
          "parcoords": [
           {
            "line": {
             "colorbar": {
              "outlinewidth": 0,
              "ticks": ""
             }
            },
            "type": "parcoords"
           }
          ],
          "pie": [
           {
            "automargin": true,
            "type": "pie"
           }
          ],
          "scatter": [
           {
            "marker": {
             "colorbar": {
              "outlinewidth": 0,
              "ticks": ""
             }
            },
            "type": "scatter"
           }
          ],
          "scatter3d": [
           {
            "line": {
             "colorbar": {
              "outlinewidth": 0,
              "ticks": ""
             }
            },
            "marker": {
             "colorbar": {
              "outlinewidth": 0,
              "ticks": ""
             }
            },
            "type": "scatter3d"
           }
          ],
          "scattercarpet": [
           {
            "marker": {
             "colorbar": {
              "outlinewidth": 0,
              "ticks": ""
             }
            },
            "type": "scattercarpet"
           }
          ],
          "scattergeo": [
           {
            "marker": {
             "colorbar": {
              "outlinewidth": 0,
              "ticks": ""
             }
            },
            "type": "scattergeo"
           }
          ],
          "scattergl": [
           {
            "marker": {
             "colorbar": {
              "outlinewidth": 0,
              "ticks": ""
             }
            },
            "type": "scattergl"
           }
          ],
          "scattermapbox": [
           {
            "marker": {
             "colorbar": {
              "outlinewidth": 0,
              "ticks": ""
             }
            },
            "type": "scattermapbox"
           }
          ],
          "scatterpolar": [
           {
            "marker": {
             "colorbar": {
              "outlinewidth": 0,
              "ticks": ""
             }
            },
            "type": "scatterpolar"
           }
          ],
          "scatterpolargl": [
           {
            "marker": {
             "colorbar": {
              "outlinewidth": 0,
              "ticks": ""
             }
            },
            "type": "scatterpolargl"
           }
          ],
          "scatterternary": [
           {
            "marker": {
             "colorbar": {
              "outlinewidth": 0,
              "ticks": ""
             }
            },
            "type": "scatterternary"
           }
          ],
          "surface": [
           {
            "colorbar": {
             "outlinewidth": 0,
             "ticks": ""
            },
            "colorscale": [
             [
              0,
              "#0d0887"
             ],
             [
              0.1111111111111111,
              "#46039f"
             ],
             [
              0.2222222222222222,
              "#7201a8"
             ],
             [
              0.3333333333333333,
              "#9c179e"
             ],
             [
              0.4444444444444444,
              "#bd3786"
             ],
             [
              0.5555555555555556,
              "#d8576b"
             ],
             [
              0.6666666666666666,
              "#ed7953"
             ],
             [
              0.7777777777777778,
              "#fb9f3a"
             ],
             [
              0.8888888888888888,
              "#fdca26"
             ],
             [
              1,
              "#f0f921"
             ]
            ],
            "type": "surface"
           }
          ],
          "table": [
           {
            "cells": {
             "fill": {
              "color": "#EBF0F8"
             },
             "line": {
              "color": "white"
             }
            },
            "header": {
             "fill": {
              "color": "#C8D4E3"
             },
             "line": {
              "color": "white"
             }
            },
            "type": "table"
           }
          ]
         },
         "layout": {
          "annotationdefaults": {
           "arrowcolor": "#2a3f5f",
           "arrowhead": 0,
           "arrowwidth": 1
          },
          "coloraxis": {
           "colorbar": {
            "outlinewidth": 0,
            "ticks": ""
           }
          },
          "colorscale": {
           "diverging": [
            [
             0,
             "#8e0152"
            ],
            [
             0.1,
             "#c51b7d"
            ],
            [
             0.2,
             "#de77ae"
            ],
            [
             0.3,
             "#f1b6da"
            ],
            [
             0.4,
             "#fde0ef"
            ],
            [
             0.5,
             "#f7f7f7"
            ],
            [
             0.6,
             "#e6f5d0"
            ],
            [
             0.7,
             "#b8e186"
            ],
            [
             0.8,
             "#7fbc41"
            ],
            [
             0.9,
             "#4d9221"
            ],
            [
             1,
             "#276419"
            ]
           ],
           "sequential": [
            [
             0,
             "#0d0887"
            ],
            [
             0.1111111111111111,
             "#46039f"
            ],
            [
             0.2222222222222222,
             "#7201a8"
            ],
            [
             0.3333333333333333,
             "#9c179e"
            ],
            [
             0.4444444444444444,
             "#bd3786"
            ],
            [
             0.5555555555555556,
             "#d8576b"
            ],
            [
             0.6666666666666666,
             "#ed7953"
            ],
            [
             0.7777777777777778,
             "#fb9f3a"
            ],
            [
             0.8888888888888888,
             "#fdca26"
            ],
            [
             1,
             "#f0f921"
            ]
           ],
           "sequentialminus": [
            [
             0,
             "#0d0887"
            ],
            [
             0.1111111111111111,
             "#46039f"
            ],
            [
             0.2222222222222222,
             "#7201a8"
            ],
            [
             0.3333333333333333,
             "#9c179e"
            ],
            [
             0.4444444444444444,
             "#bd3786"
            ],
            [
             0.5555555555555556,
             "#d8576b"
            ],
            [
             0.6666666666666666,
             "#ed7953"
            ],
            [
             0.7777777777777778,
             "#fb9f3a"
            ],
            [
             0.8888888888888888,
             "#fdca26"
            ],
            [
             1,
             "#f0f921"
            ]
           ]
          },
          "colorway": [
           "#636efa",
           "#EF553B",
           "#00cc96",
           "#ab63fa",
           "#FFA15A",
           "#19d3f3",
           "#FF6692",
           "#B6E880",
           "#FF97FF",
           "#FECB52"
          ],
          "font": {
           "color": "#2a3f5f"
          },
          "geo": {
           "bgcolor": "white",
           "lakecolor": "white",
           "landcolor": "#E5ECF6",
           "showlakes": true,
           "showland": true,
           "subunitcolor": "white"
          },
          "hoverlabel": {
           "align": "left"
          },
          "hovermode": "closest",
          "mapbox": {
           "style": "light"
          },
          "paper_bgcolor": "white",
          "plot_bgcolor": "#E5ECF6",
          "polar": {
           "angularaxis": {
            "gridcolor": "white",
            "linecolor": "white",
            "ticks": ""
           },
           "bgcolor": "#E5ECF6",
           "radialaxis": {
            "gridcolor": "white",
            "linecolor": "white",
            "ticks": ""
           }
          },
          "scene": {
           "xaxis": {
            "backgroundcolor": "#E5ECF6",
            "gridcolor": "white",
            "gridwidth": 2,
            "linecolor": "white",
            "showbackground": true,
            "ticks": "",
            "zerolinecolor": "white"
           },
           "yaxis": {
            "backgroundcolor": "#E5ECF6",
            "gridcolor": "white",
            "gridwidth": 2,
            "linecolor": "white",
            "showbackground": true,
            "ticks": "",
            "zerolinecolor": "white"
           },
           "zaxis": {
            "backgroundcolor": "#E5ECF6",
            "gridcolor": "white",
            "gridwidth": 2,
            "linecolor": "white",
            "showbackground": true,
            "ticks": "",
            "zerolinecolor": "white"
           }
          },
          "shapedefaults": {
           "line": {
            "color": "#2a3f5f"
           }
          },
          "ternary": {
           "aaxis": {
            "gridcolor": "white",
            "linecolor": "white",
            "ticks": ""
           },
           "baxis": {
            "gridcolor": "white",
            "linecolor": "white",
            "ticks": ""
           },
           "bgcolor": "#E5ECF6",
           "caxis": {
            "gridcolor": "white",
            "linecolor": "white",
            "ticks": ""
           }
          },
          "title": {
           "x": 0.05
          },
          "xaxis": {
           "automargin": true,
           "gridcolor": "white",
           "linecolor": "white",
           "ticks": "",
           "title": {
            "standoff": 15
           },
           "zerolinecolor": "white",
           "zerolinewidth": 2
          },
          "yaxis": {
           "automargin": true,
           "gridcolor": "white",
           "linecolor": "white",
           "ticks": "",
           "title": {
            "standoff": 15
           },
           "zerolinecolor": "white",
           "zerolinewidth": 2
          }
         }
        },
        "title": {
         "text": "Deaths % Per Population Against % Leave <br> Correlation = 0.53",
         "x": 0.5,
         "y": 0.85
        },
        "updatemenus": [
         {
          "active": 1,
          "buttons": [
           {
            "args": [
             {
              "visible": [
               true,
               false
              ]
             },
             {
              "title": "Cases % Per Population Against % Leave <br> Correlation = 0.28"
             }
            ],
            "label": "Cases",
            "method": "update"
           },
           {
            "args": [
             {
              "visible": [
               false,
               true
              ]
             },
             {
              "title": "Deaths % Per Population Against % Leave <br> Correlation = 0.53"
             }
            ],
            "label": "Deaths",
            "method": "update"
           }
          ],
          "y": 1.35,
          "yanchor": "top"
         }
        ],
        "xaxis": {
         "tickfont": {
          "size": 10
         },
         "title": {
          "font": {
           "size": 25
          },
          "text": "% Leave"
         }
        },
        "yaxis": {
         "title": {
          "font": {
           "size": 25
          },
          "text": "% Per Population"
         }
        }
       }
      },
      "text/html": [
       "<div>                            <div id=\"726c47cb-8326-4361-b630-64b8fff1d10f\" class=\"plotly-graph-div\" style=\"height:525px; width:100%;\"></div>            <script type=\"text/javascript\">                require([\"plotly\"], function(Plotly) {                    window.PLOTLYENV=window.PLOTLYENV || {};                                    if (document.getElementById(\"726c47cb-8326-4361-b630-64b8fff1d10f\")) {                    Plotly.newPlot(                        \"726c47cb-8326-4361-b630-64b8fff1d10f\",                        [{\"hovertext\": [\"Hartlepool\", \"Middlesbrough\", \"Redcar and Cleveland\", \"Stockton-on-Tees\", \"Darlington\", \"Halton\", \"Warrington\", \"Blackburn with Darwen\", \"Blackpool\", \"Kingston upon Hull, City of\", \"East Riding of Yorkshire\", \"North East Lincolnshire\", \"North Lincolnshire\", \"York\", \"Derby\", \"Leicester\", \"Rutland\", \"Nottingham\", \"Herefordshire, County of\", \"Telford and Wrekin\", \"Stoke-on-Trent\", \"Bath and North East Somerset\", \"Bristol, City of\", \"North Somerset\", \"South Gloucestershire\", \"Plymouth\", \"Torbay\", \"Swindon\", \"Peterborough\", \"Luton\", \"Southend-on-Sea\", \"Thurrock\", \"Medway\", \"Bracknell Forest\", \"West Berkshire\", \"Reading\", \"Slough\", \"Windsor and Maidenhead\", \"Wokingham\", \"Milton Keynes\", \"Brighton and Hove\", \"Portsmouth\", \"Southampton\", \"Isle of Wight\", \"County Durham\", \"Cheshire East\", \"Cheshire West and Chester\", \"Shropshire\", \"Wiltshire\", \"Bedford\", \"Central Bedfordshire\", \"Northumberland\", \"Cambridge\", \"East Cambridgeshire\", \"Fenland\", \"Huntingdonshire\", \"South Cambridgeshire\", \"Allerdale\", \"Barrow-in-Furness\", \"Carlisle\", \"Copeland\", \"Eden\", \"South Lakeland\", \"Amber Valley\", \"Bolsover\", \"Chesterfield\", \"Derbyshire Dales\", \"Erewash\", \"High Peak\", \"North East Derbyshire\", \"South Derbyshire\", \"East Devon\", \"Exeter\", \"Mid Devon\", \"North Devon\", \"South Hams\", \"Teignbridge\", \"Torridge\", \"West Devon\", \"Eastbourne\", \"Hastings\", \"Lewes\", \"Rother\", \"Wealden\", \"Basildon\", \"Braintree\", \"Brentwood\", \"Castle Point\", \"Chelmsford\", \"Colchester\", \"Epping Forest\", \"Harlow\", \"Maldon\", \"Rochford\", \"Tendring\", \"Uttlesford\", \"Cheltenham\", \"Cotswold\", \"Forest of Dean\", \"Gloucester\", \"Stroud\", \"Tewkesbury\", \"Basingstoke and Deane\", \"East Hampshire\", \"Eastleigh\", \"Fareham\", \"Gosport\", \"Hart\", \"Havant\", \"New Forest\", \"Rushmoor\", \"Test Valley\", \"Winchester\", \"Broxbourne\", \"Dacorum\", \"Hertsmere\", \"North Hertfordshire\", \"Three Rivers\", \"Watford\", \"Ashford\", \"Canterbury\", \"Dartford\", \"Dover\", \"Gravesham\", \"Maidstone\", \"Sevenoaks\", \"Swale\", \"Thanet\", \"Tonbridge and Malling\", \"Tunbridge Wells\", \"Burnley\", \"Chorley\", \"Fylde\", \"Hyndburn\", \"Lancaster\", \"Pendle\", \"Preston\", \"Ribble Valley\", \"Rossendale\", \"South Ribble\", \"West Lancashire\", \"Wyre\", \"Blaby\", \"Charnwood\", \"Harborough\", \"Hinckley and Bosworth\", \"Melton\", \"North West Leicestershire\", \"Oadby and Wigston\", \"Boston\", \"East Lindsey\", \"Lincoln\", \"North Kesteven\", \"South Holland\", \"South Kesteven\", \"West Lindsey\", \"Breckland\", \"Broadland\", \"Great Yarmouth\", \"King's Lynn and West Norfolk\", \"North Norfolk\", \"Norwich\", \"South Norfolk\", \"Corby\", \"Daventry\", \"East Northamptonshire\", \"Kettering\", \"Northampton\", \"South Northamptonshire\", \"Wellingborough\", \"Craven\", \"Hambleton\", \"Harrogate\", \"Richmondshire\", \"Ryedale\", \"Scarborough\", \"Selby\", \"Ashfield\", \"Bassetlaw\", \"Broxtowe\", \"Gedling\", \"Mansfield\", \"Newark and Sherwood\", \"Rushcliffe\", \"Cherwell\", \"Oxford\", \"South Oxfordshire\", \"Vale of White Horse\", \"West Oxfordshire\", \"Mendip\", \"Sedgemoor\", \"South Somerset\", \"Cannock Chase\", \"East Staffordshire\", \"Lichfield\", \"Newcastle-under-Lyme\", \"South Staffordshire\", \"Stafford\", \"Staffordshire Moorlands\", \"Tamworth\", \"Babergh\", \"Ipswich\", \"Mid Suffolk\", \"Elmbridge\", \"Epsom and Ewell\", \"Guildford\", \"Mole Valley\", \"Reigate and Banstead\", \"Runnymede\", \"Spelthorne\", \"Surrey Heath\", \"Tandridge\", \"Waverley\", \"Woking\", \"North Warwickshire\", \"Nuneaton and Bedworth\", \"Rugby\", \"Stratford-on-Avon\", \"Warwick\", \"Adur\", \"Arun\", \"Chichester\", \"Crawley\", \"Horsham\", \"Mid Sussex\", \"Worthing\", \"Bromsgrove\", \"Malvern Hills\", \"Redditch\", \"Worcester\", \"Wychavon\", \"Wyre Forest\", \"St Albans\", \"Welwyn Hatfield\", \"East Hertfordshire\", \"Stevenage\", \"Bolton\", \"Bury\", \"Manchester\", \"Oldham\", \"Rochdale\", \"Salford\", \"Stockport\", \"Tameside\", \"Trafford\", \"Wigan\", \"Knowsley\", \"Liverpool\", \"St. Helens\", \"Sefton\", \"Wirral\", \"Barnsley\", \"Doncaster\", \"Rotherham\", \"Sheffield\", \"Newcastle upon Tyne\", \"North Tyneside\", \"South Tyneside\", \"Sunderland\", \"Birmingham\", \"Coventry\", \"Dudley\", \"Sandwell\", \"Solihull\", \"Walsall\", \"Wolverhampton\", \"Bradford\", \"Calderdale\", \"Kirklees\", \"Leeds\", \"Wakefield\", \"Gateshead\", \"Barking and Dagenham\", \"Barnet\", \"Bexley\", \"Brent\", \"Bromley\", \"Camden\", \"Croydon\", \"Ealing\", \"Enfield\", \"Greenwich\", \"Hammersmith and Fulham\", \"Haringey\", \"Harrow\", \"Havering\", \"Hillingdon\", \"Hounslow\", \"Islington\", \"Kensington and Chelsea\", \"Kingston upon Thames\", \"Lambeth\", \"Lewisham\", \"Merton\", \"Newham\", \"Redbridge\", \"Richmond upon Thames\", \"Southwark\", \"Sutton\", \"Tower Hamlets\", \"Waltham Forest\", \"Wandsworth\", \"Westminster\", \"Clackmannanshire\", \"Dumfries and Galloway\", \"East Ayrshire\", \"East Lothian\", \"East Renfrewshire\", \"Falkirk\", \"Highland\", \"Inverclyde\", \"Midlothian\", \"Moray\", \"North Ayrshire\", \"Orkney Islands\", \"Scottish Borders\", \"Shetland Islands\", \"South Ayrshire\", \"South Lanarkshire\", \"Stirling\", \"Aberdeen City\", \"Aberdeenshire\", \"Argyll and Bute\", \"City of Edinburgh\", \"Renfrewshire\", \"West Dunbartonshire\", \"West Lothian\", \"Angus\", \"Dundee City\", \"East Dunbartonshire\", \"Fife\", \"Perth and Kinross\", \"Glasgow City\", \"North Lanarkshire\", \"Isle of Anglesey\", \"Gwynedd\", \"Conwy\", \"Denbighshire\", \"Flintshire\", \"Wrexham\", \"Ceredigion\", \"Pembrokeshire\", \"Carmarthenshire\", \"Swansea\", \"Neath Port Talbot\", \"Bridgend\", \"Vale of Glamorgan\", \"Cardiff\", \"Rhondda Cynon Taf\", \"Caerphilly\", \"Blaenau Gwent\", \"Torfaen\", \"Monmouthshire\", \"Newport\", \"Powys\", \"Merthyr Tydfil\"], \"mode\": \"markers\", \"name\": \"Cases\", \"type\": \"scatter\", \"visible\": false, \"x\": [69.57, 65.48, 66.19, 61.73, 56.18, 57.42, 54.27, 56.34, 67.46, 67.62, 60.4, 69.87, 66.3, 41.96, 57.22, 48.92, 50.57, 50.84, 59.22, 63.22, 69.36, 42.15, 38.27, 52.17, 52.68, 59.94, 63.16, 54.66, 60.89, 56.55, 58.08, 72.28, 64.08, 53.94, 48.22, 41.97, 54.33, 46.1, 43.31, 51.41, 31.38, 58.08, 53.8, 61.95, 57.55, 51.18, 50.68, 56.87, 52.49, 51.78, 56.13, 54.11, 26.15, 50.92, 71.39, 54.24, 39.77, 58.65, 60.62, 60.14, 62.0, 53.32, 47.14, 60.28, 70.83, 60.04, 51.56, 61.23, 50.55, 62.78, 60.35, 54.11, 44.72, 53.34, 57.04, 47.15, 53.9, 60.83, 53.2, 57.33, 54.88, 47.93, 58.53, 54.5, 68.62, 61.13, 59.15, 72.7, 52.83, 53.6, 62.69, 68.1, 62.58, 66.61, 69.5, 50.68, 43.83, 48.9, 58.58, 58.5, 45.39, 53.25, 51.9, 49.48, 52.45, 55.1, 63.86, 47.6, 62.36, 57.76, 58.21, 51.94, 41.07, 66.26, 50.67, 50.84, 45.63, 51.27, 50.27, 59.43, 51.04, 64.22, 62.15, 65.38, 58.75, 54.38, 62.46, 63.85, 55.7, 45.11, 66.61, 56.83, 56.96, 66.19, 51.08, 63.15, 53.31, 56.39, 60.68, 58.56, 55.31, 63.77, 59.47, 53.81, 50.75, 60.33, 58.11, 60.7, 54.58, 75.56, 70.65, 56.94, 62.26, 73.59, 59.93, 61.82, 64.22, 54.37, 71.5, 66.4, 58.91, 43.76, 51.69, 64.25, 58.6, 58.76, 60.99, 58.38, 54.34, 62.42, 52.83, 53.66, 49.03, 56.78, 55.26, 61.99, 59.17, 69.84, 67.83, 54.65, 55.55, 70.86, 60.39, 42.45, 50.31, 29.73, 45.02, 43.3, 46.34, 48.93, 61.2, 57.25, 68.86, 63.21, 58.81, 63.04, 64.85, 55.99, 64.73, 67.47, 54.19, 58.26, 55.23, 40.47, 47.92, 43.83, 46.92, 50.49, 54.26, 60.3, 50.98, 52.84, 41.61, 43.85, 66.88, 66.01, 56.7, 51.56, 41.22, 54.57, 62.48, 50.92, 58.41, 48.54, 46.91, 52.99, 55.37, 52.16, 62.29, 53.68, 57.86, 63.15, 37.29, 52.99, 50.36, 59.25, 58.29, 54.12, 39.64, 60.86, 60.07, 56.81, 47.67, 61.14, 42.31, 63.9, 51.56, 41.81, 58.02, 48.13, 48.3, 68.31, 68.96, 67.89, 50.99, 49.3, 53.4, 62.05, 61.34, 50.42, 55.6, 67.6, 66.72, 56.16, 67.86, 62.57, 54.23, 55.68, 54.67, 49.69, 66.36, 56.85, 62.44, 37.77, 62.95, 40.26, 49.35, 25.06, 45.71, 39.6, 44.18, 44.41, 29.98, 24.43, 45.37, 69.66, 56.37, 48.94, 24.78, 31.31, 38.39, 21.38, 30.14, 37.06, 47.16, 46.03, 30.71, 27.19, 53.72, 32.54, 40.9, 24.97, 31.03, 42.22, 46.94, 41.4, 35.4, 25.68, 43.24, 44.05, 36.2, 37.94, 49.87, 43.12, 36.84, 41.53, 43.49, 41.04, 36.92, 32.28, 38.9, 44.99, 39.43, 25.56, 35.19, 38.01, 41.75, 44.74, 40.22, 28.6, 41.41, 38.91, 33.41, 38.34, 50.94, 41.95, 53.98, 54.0, 56.37, 59.04, 45.37, 57.14, 53.75, 51.51, 56.84, 54.64, 49.27, 39.98, 53.7, 57.63, 62.03, 59.78, 49.56, 55.99, 53.74, 56.44], \"y\": [4.445725633387784, 4.17151368988509, 3.4604447685016413, 4.011695076717271, 3.353838375326536, 3.7640058728073567, 4.043539954479225, 6.732310816588286, 3.9033030707227168, 4.216677316785871, 3.0272032077567688, 3.409311682532918, 2.95834977828338, 2.751901546876335, 3.1931349153912527, 5.2469623740909705, 1.289853983519924, 5.259537398618204, 1.3371299941390349, 2.452544841927341, 3.998829839102876, 1.9882865450481684, 3.4434164837702346, 2.0413667392072607, 2.315034041523292, 1.5932850057230066, 1.4618681383197325, 1.8884483309555204, 2.4260972317671894, 3.0612244897959178, 1.5945392491467578, 2.039680855335234, 2.9161102255919813, 1.3610882177741148, 1.1195960870937205, 1.8586969959203856, 2.8761727709828198, 1.699885089352934, 1.3966888539554343, 1.6295735497686086, 1.462777386252299, 2.198180591424117, 1.6327419610327896, 0.7025414224347716, 3.7832912653227537, 2.459182823465712, 2.7309215876596973, 1.8571127946127943, 1.091347615314465, 2.055490155344736, 1.3854244616280038, 2.7940601797577176, 1.5905703617045144, 0.7947462154942119, 1.3686794305351009, 1.1878873698465413, 0.9403718743321222, 1.5415145098761265, 3.0589568822801234, 2.5147683983878983, 1.7702359825763017, 1.7745479127936454, 2.0925319732034104, 2.8904305211983115, 3.285668181028276, 2.698760724499523, 1.7891462150017283, 2.641911745585979, 2.6449830574320683, 2.9429737241528846, 2.9498140050903867, 1.174427825326078, 2.1133138008447165, 0.9038889091372964, 0.991301662463328, 0.7172084042113006, 0.7587785007789033, 0.6928677106068818, 0.8262241020861709, 1.2521085353511014, 0.97775763266099, 0.9925630398574584, 1.0636969192339716, 1.166744078030655, 2.4845218190268112, 1.1755917276087129, 2.3123563703405567, 1.8423032663538996, 1.497858600354284, 1.2536850430906084, 2.1626711418569506, 1.7653071772313276, 0.9087268582694144, 1.3986814394286238, 1.1981359297493877, 1.3321063932343018, 1.4272694443966778, 1.1172687008969309, 1.040430459379429, 1.8926956198500715, 1.2595445300256742, 1.148191414348709, 1.4752353014463535, 1.3016319455800112, 1.2958138699245418, 1.2767458467044643, 1.3625969494801855, 1.0837204990059028, 1.5187767390270956, 1.0894794709194495, 1.7272909861626444, 1.2436588459099556, 1.4416261543020528, 2.181354660306952, 1.4273437449519588, 1.9529351213793495, 1.2390506850340646, 1.7476934946369065, 2.3007548381084524, 2.114864033468685, 2.0182110596514993, 2.509635365788679, 2.3033750666632806, 2.789440709189351, 2.1847683121297123, 1.4385093167701863, 3.6113591236790548, 3.2975859979425315, 1.6579267969701783, 1.2920723695293286, 5.457714799820063, 3.3379576368681065, 3.159197821242881, 4.896166232740644, 2.9519714047028858, 5.47268542643738, 5.242603136898731, 3.4752332150834317, 4.840379396211634, 3.4453189876159875, 4.1598866201249285, 3.1064046176767093, 3.3075271359060734, 3.5307854141220654, 2.3228543712089715, 2.3299391882336304, 2.433166045031147, 2.3761955776896277, 4.62509865824783, 3.358841719749761, 2.683327806275445, 3.4965105388775317, 2.08613094983535, 2.0637977667624368, 1.8831095882716395, 2.070724492249156, 1.2395690443529952, 1.1928155800065758, 1.7596843037770795, 1.4625156061116509, 0.6867804305731755, 1.3430744168510311, 1.1548835888699602, 1.8056440222659167, 1.5916230366492146, 1.848149206046949, 1.9513441282817168, 2.6966742353412583, 1.6816594348608318, 1.874364861304528, 2.429036435546533, 1.9422669607179508, 2.3260441084119354, 1.915131211613624, 1.3940050559768868, 2.8292431751519445, 2.4387552416685057, 2.9182757704154225, 3.365429639278387, 3.04736348250068, 3.0730474316346608, 2.8221711964725147, 2.574721657232011, 2.8678346086723048, 1.6019614226958931, 2.344923486622457, 1.3198927191197898, 1.1969972133787232, 1.346673535605506, 0.8564977030288874, 1.3338420821900014, 0.9937925094300396, 2.79569679045672, 3.234129966431184, 2.6929245102905797, 3.655719594255298, 3.3263367604681773, 3.0492424242424243, 2.84959618022045, 3.032752685928862, 1.178886522665044, 1.48634534339325, 0.826796284710525, 1.5519573083811542, 1.7463132697483472, 1.5449871810359868, 1.5863373259212559, 1.5287600505553016, 2.1582572911075326, 1.9440326909979568, 1.6594815519847712, 1.4705715485254571, 1.392407067316826, 1.837429186550653, 2.8545599411620497, 2.811761354449774, 2.036076559416166, 1.5780411689649343, 2.285169700806244, 0.9300010886300368, 0.9175282101046291, 1.0864450296791026, 1.3762243236751506, 1.1732305916225634, 1.325634675742607, 1.0111241747309396, 2.432895145222816, 1.2427253551551498, 2.4724082523076203, 1.9412775878761528, 1.5135243716826463, 2.10383943292099, 1.4691617492522837, 1.556366473509261, 1.547933862221866, 1.440036427798964, 5.428968874978264, 5.335881459762291, 5.811618896714889, 6.418961663362997, 5.916497311296152, 5.309194309866556, 3.7157959669146585, 4.728181444901167, 3.7644193904463377, 5.236686930646075, 5.288276703212207, 4.930507868814277, 4.361934822936568, 3.882999891465576, 3.1548311631395225, 4.392261388769617, 4.027060822725962, 4.345712875502524, 4.4961725425021335, 5.318010699425401, 3.4163327930432437, 4.052962060194997, 4.159809870185988, 3.735628157251256, 2.479805986740992, 3.483874177539522, 3.987821586238392, 2.8968360339042585, 3.496591681320452, 3.3502052347194113, 5.599915520512211, 4.02071362701284, 4.5542501256289984, 4.652400146758638, 4.081685385516433, 3.94941971245453, 2.5058006819911136, 1.966307035913396, 2.246190900047123, 2.135421246865249, 1.7461244042174184, 1.4254024567731614, 1.758940808357684, 2.5008338063111824, 2.1189715812746783, 1.7302095560911577, 2.128624900752392, 1.8388442826460003, 2.1850613154960983, 2.9416070768092712, 2.2168996643529835, 2.2027599871834056, 1.6187769882087046, 1.78762433628602, 2.0692141718354766, 1.8363115503291068, 1.526605240614435, 1.8576795708503595, 2.345285359098812, 2.811723925536167, 1.572071366889036, 1.6670325878995074, 1.7853248622479394, 2.33845016859382, 2.2716195578790037, 1.761421027247882, 1.6462763616603588, 1.6763678696158322, 0.7960499798468359, 2.159659044340628, 1.057054813708096, 2.436930807076311, 1.3543414755422958, 0.3540686087435865, 1.3933161953727506, 1.5412070084360805, 0.3078689208933417, 1.8851120676859137, 0.1706331387516839, 0.9012206735347588, 0.33158813263525305, 1.7724891217476244, 3.1538389542320533, 1.5263772423309627, 1.2244719464730836, 0.7174304199686076, 0.8978688715500175, 1.5194406873297392, 2.765494137353434, 2.401889126279096, 2.0262151829601307, 1.0817555938037866, 2.216715778194482, 2.479749631811488, 1.2584660687993574, 1.1161566304705497, 3.3472327520849134, 3.0195975041743566, 1.3920020558799595, 1.144829800899165, 1.5562741568048601, 1.9770941314161512, 2.119795003203075, 3.1031870370779, 0.98906389710434, 0.9609117932251348, 2.1290346504494866, 3.5199378120027687, 3.6500017444091677, 3.1207284646614397, 1.9433028662968703, 3.361923996260592, 4.708120565024205, 3.295871876294353, 4.534654032234979, 2.692606506955013, 1.832117559995771, 2.745739481238201, 1.2104051043908333, 5.440440274508504]}, {\"hovertext\": [\"Hartlepool\", \"Middlesbrough\", \"Redcar and Cleveland\", \"Stockton-on-Tees\", \"Darlington\", \"Halton\", \"Warrington\", \"Blackburn with Darwen\", \"Blackpool\", \"Kingston upon Hull, City of\", \"East Riding of Yorkshire\", \"North East Lincolnshire\", \"North Lincolnshire\", \"York\", \"Derby\", \"Leicester\", \"Rutland\", \"Nottingham\", \"Herefordshire, County of\", \"Telford and Wrekin\", \"Stoke-on-Trent\", \"Bath and North East Somerset\", \"Bristol, City of\", \"North Somerset\", \"South Gloucestershire\", \"Plymouth\", \"Torbay\", \"Swindon\", \"Peterborough\", \"Luton\", \"Southend-on-Sea\", \"Thurrock\", \"Medway\", \"Bracknell Forest\", \"West Berkshire\", \"Reading\", \"Slough\", \"Windsor and Maidenhead\", \"Wokingham\", \"Milton Keynes\", \"Brighton and Hove\", \"Portsmouth\", \"Southampton\", \"Isle of Wight\", \"County Durham\", \"Cheshire East\", \"Cheshire West and Chester\", \"Shropshire\", \"Wiltshire\", \"Bedford\", \"Central Bedfordshire\", \"Northumberland\", \"Cambridge\", \"East Cambridgeshire\", \"Fenland\", \"Huntingdonshire\", \"South Cambridgeshire\", \"Allerdale\", \"Barrow-in-Furness\", \"Carlisle\", \"Copeland\", \"Eden\", \"South Lakeland\", \"Amber Valley\", \"Bolsover\", \"Chesterfield\", \"Derbyshire Dales\", \"Erewash\", \"High Peak\", \"North East Derbyshire\", \"South Derbyshire\", \"East Devon\", \"Exeter\", \"Mid Devon\", \"North Devon\", \"South Hams\", \"Teignbridge\", \"Torridge\", \"West Devon\", \"Eastbourne\", \"Hastings\", \"Lewes\", \"Rother\", \"Wealden\", \"Basildon\", \"Braintree\", \"Brentwood\", \"Castle Point\", \"Chelmsford\", \"Colchester\", \"Epping Forest\", \"Harlow\", \"Maldon\", \"Rochford\", \"Tendring\", \"Uttlesford\", \"Cheltenham\", \"Cotswold\", \"Forest of Dean\", \"Gloucester\", \"Stroud\", \"Tewkesbury\", \"Basingstoke and Deane\", \"East Hampshire\", \"Eastleigh\", \"Fareham\", \"Gosport\", \"Hart\", \"Havant\", \"New Forest\", \"Rushmoor\", \"Test Valley\", \"Winchester\", \"Broxbourne\", \"Dacorum\", \"Hertsmere\", \"North Hertfordshire\", \"Three Rivers\", \"Watford\", \"Ashford\", \"Canterbury\", \"Dartford\", \"Dover\", \"Gravesham\", \"Maidstone\", \"Sevenoaks\", \"Swale\", \"Thanet\", \"Tonbridge and Malling\", \"Tunbridge Wells\", \"Burnley\", \"Chorley\", \"Fylde\", \"Hyndburn\", \"Lancaster\", \"Pendle\", \"Preston\", \"Ribble Valley\", \"Rossendale\", \"South Ribble\", \"West Lancashire\", \"Wyre\", \"Blaby\", \"Charnwood\", \"Harborough\", \"Hinckley and Bosworth\", \"Melton\", \"North West Leicestershire\", \"Oadby and Wigston\", \"Boston\", \"East Lindsey\", \"Lincoln\", \"North Kesteven\", \"South Holland\", \"South Kesteven\", \"West Lindsey\", \"Breckland\", \"Broadland\", \"Great Yarmouth\", \"King's Lynn and West Norfolk\", \"North Norfolk\", \"Norwich\", \"South Norfolk\", \"Corby\", \"Daventry\", \"East Northamptonshire\", \"Kettering\", \"Northampton\", \"South Northamptonshire\", \"Wellingborough\", \"Craven\", \"Hambleton\", \"Harrogate\", \"Richmondshire\", \"Ryedale\", \"Scarborough\", \"Selby\", \"Ashfield\", \"Bassetlaw\", \"Broxtowe\", \"Gedling\", \"Mansfield\", \"Newark and Sherwood\", \"Rushcliffe\", \"Cherwell\", \"Oxford\", \"South Oxfordshire\", \"Vale of White Horse\", \"West Oxfordshire\", \"Mendip\", \"Sedgemoor\", \"South Somerset\", \"Cannock Chase\", \"East Staffordshire\", \"Lichfield\", \"Newcastle-under-Lyme\", \"South Staffordshire\", \"Stafford\", \"Staffordshire Moorlands\", \"Tamworth\", \"Babergh\", \"Ipswich\", \"Mid Suffolk\", \"Elmbridge\", \"Epsom and Ewell\", \"Guildford\", \"Mole Valley\", \"Reigate and Banstead\", \"Runnymede\", \"Spelthorne\", \"Surrey Heath\", \"Tandridge\", \"Waverley\", \"Woking\", \"North Warwickshire\", \"Nuneaton and Bedworth\", \"Rugby\", \"Stratford-on-Avon\", \"Warwick\", \"Adur\", \"Arun\", \"Chichester\", \"Crawley\", \"Horsham\", \"Mid Sussex\", \"Worthing\", \"Bromsgrove\", \"Malvern Hills\", \"Redditch\", \"Worcester\", \"Wychavon\", \"Wyre Forest\", \"St Albans\", \"Welwyn Hatfield\", \"East Hertfordshire\", \"Stevenage\", \"Bolton\", \"Bury\", \"Manchester\", \"Oldham\", \"Rochdale\", \"Salford\", \"Stockport\", \"Tameside\", \"Trafford\", \"Wigan\", \"Knowsley\", \"Liverpool\", \"St. Helens\", \"Sefton\", \"Wirral\", \"Barnsley\", \"Doncaster\", \"Rotherham\", \"Sheffield\", \"Newcastle upon Tyne\", \"North Tyneside\", \"South Tyneside\", \"Sunderland\", \"Birmingham\", \"Coventry\", \"Dudley\", \"Sandwell\", \"Solihull\", \"Walsall\", \"Wolverhampton\", \"Bradford\", \"Calderdale\", \"Kirklees\", \"Leeds\", \"Wakefield\", \"Gateshead\", \"Barking and Dagenham\", \"Barnet\", \"Bexley\", \"Brent\", \"Bromley\", \"Camden\", \"Croydon\", \"Ealing\", \"Enfield\", \"Greenwich\", \"Hammersmith and Fulham\", \"Haringey\", \"Harrow\", \"Havering\", \"Hillingdon\", \"Hounslow\", \"Islington\", \"Kensington and Chelsea\", \"Kingston upon Thames\", \"Lambeth\", \"Lewisham\", \"Merton\", \"Newham\", \"Redbridge\", \"Richmond upon Thames\", \"Southwark\", \"Sutton\", \"Tower Hamlets\", \"Waltham Forest\", \"Wandsworth\", \"Westminster\", \"Clackmannanshire\", \"Dumfries and Galloway\", \"East Ayrshire\", \"East Lothian\", \"East Renfrewshire\", \"Falkirk\", \"Highland\", \"Inverclyde\", \"Midlothian\", \"Moray\", \"North Ayrshire\", \"Orkney Islands\", \"Scottish Borders\", \"Shetland Islands\", \"South Ayrshire\", \"South Lanarkshire\", \"Stirling\", \"Aberdeen City\", \"Aberdeenshire\", \"Argyll and Bute\", \"City of Edinburgh\", \"Renfrewshire\", \"West Dunbartonshire\", \"West Lothian\", \"Angus\", \"Dundee City\", \"East Dunbartonshire\", \"Fife\", \"Perth and Kinross\", \"Glasgow City\", \"North Lanarkshire\", \"Isle of Anglesey\", \"Gwynedd\", \"Conwy\", \"Denbighshire\", \"Flintshire\", \"Wrexham\", \"Ceredigion\", \"Pembrokeshire\", \"Carmarthenshire\", \"Swansea\", \"Neath Port Talbot\", \"Bridgend\", \"Vale of Glamorgan\", \"Cardiff\", \"Rhondda Cynon Taf\", \"Caerphilly\", \"Blaenau Gwent\", \"Torfaen\", \"Monmouthshire\", \"Newport\", \"Powys\", \"Merthyr Tydfil\"], \"mode\": \"markers\", \"name\": \"Deaths\", \"type\": \"scatter\", \"x\": [69.57, 65.48, 66.19, 61.73, 56.18, 57.42, 54.27, 56.34, 67.46, 67.62, 60.4, 69.87, 66.3, 41.96, 57.22, 48.92, 50.57, 50.84, 59.22, 63.22, 69.36, 42.15, 38.27, 52.17, 52.68, 59.94, 63.16, 54.66, 60.89, 56.55, 58.08, 72.28, 64.08, 53.94, 48.22, 41.97, 54.33, 46.1, 43.31, 51.41, 31.38, 58.08, 53.8, 61.95, 57.55, 51.18, 50.68, 56.87, 52.49, 51.78, 56.13, 54.11, 58.29, 54.12, 39.64, 60.86, 60.07, 56.81, 47.67, 61.14, 42.31, 63.9, 51.56, 41.81, 58.02, 48.13, 48.3, 68.31, 68.96, 67.89, 50.99, 49.3, 53.4, 62.05, 61.34, 50.42, 55.6, 67.6, 66.72, 56.16, 67.86, 62.57, 54.23, 55.68, 54.67, 49.69, 66.36, 56.85, 62.44, 37.77, 62.95, 40.26, 49.35, 25.06, 45.71, 39.6, 44.18, 44.41, 29.98, 24.43, 45.37, 69.66, 56.37, 48.94, 24.78, 31.31, 38.39, 21.38, 30.14, 37.06, 47.16, 46.03, 30.71, 27.19, 53.72, 32.54, 40.9, 24.97, 31.03, 42.22, 46.94, 41.4, 35.4, 25.68, 43.24, 44.05, 36.2, 37.94, 49.87, 43.12, 36.84, 41.53, 43.49, 41.04, 36.92, 32.28, 38.9, 44.99, 39.43, 25.56, 35.19, 38.01, 41.75, 44.74, 40.22, 28.6, 41.41, 38.91, 33.41, 38.34, 50.94, 41.95, 53.98, 54.0, 56.37, 59.04, 45.37, 57.14, 53.75, 51.51, 56.84, 54.64, 49.27, 39.98, 53.7, 57.63, 62.03, 59.78, 49.56, 55.99, 53.74, 56.44], \"y\": [0.16655456263412444, 0.17803943821818696, 0.15822092599343784, 0.1515090094655127, 0.17789762459855996, 0.14372923267135462, 0.16332244517032196, 0.16232898674647284, 0.21298567187298306, 0.15628729145655135, 0.14362215063911854, 0.12220878273785275, 0.1317530703689086, 0.07644170963545376, 0.15584799185393042, 0.13183748136772214, 0.0626142710446565, 0.11985581255632324, 0.0772817568373608, 0.07839692194780211, 0.15407118478790832, 0.04087292143086268, 0.059562731857645074, 0.09253575879322212, 0.08032466598618697, 0.06028233498664633, 0.07925791111372042, 0.07470982434190096, 0.08751155696409059, 0.13283142143702004, 0.13488054607508532, 0.13651407299487786, 0.12708396157325635, 0.0660960105753617, 0.0706847585989271, 0.11126220793670416, 0.09562722767973572, 0.08453197025531296, 0.09817729182615606, 0.06791436110399804, 0.05637966894133421, 0.05956120146111073, 0.0681134167590686, 0.0768845532584238, 0.18091131006953484, 0.15124221662258688, 0.16323151767418406, 0.10738512576747873, 0.07159656336495847, 0.150612838446091, 0.1084365732657077, 0.13770259960177894, 0.19718309859154928, 0.21885962615843765, 0.13873363503829195, 0.2129813166884568, 0.2324514864305883, 0.1850606952718731, 0.17074326143485682, 0.259610672294508, 0.1550426788678514, 0.2415855803226415, 0.19222865930453, 0.1752864216270917, 0.15892792867624664, 0.19717086936073225, 0.1728336383641296, 0.2312995714274141, 0.19718490493443205, 0.20571867782420472, 0.14619058122297401, 0.12350571296479755, 0.1183187198491677, 0.18479758372191607, 0.2131758520732432, 0.14748435825036607, 0.08559408485657607, 0.1427256557917387, 0.18602527020855533, 0.1663785852274303, 0.19195874988615585, 0.15985905064228406, 0.15654641925539484, 0.10214939348797616, 0.1409773367562024, 0.12570306087583638, 0.15273662693217574, 0.19202692336245086, 0.11460456727382035, 0.10761135628200236, 0.12485550995420623, 0.14100694118039486, 0.1014033989697174, 0.05517925852408445, 0.126709937679398, 0.10415264799330616, 0.1000617147102704, 0.08335011912121193, 0.08317894816439185, 0.07928620085093077, 0.13975155279503107, 0.16682591542349895, 0.09580604164629974, 0.10275372620367336, 0.05980195243064005, 0.08198348801311735, 0.09520751294315154, 0.09722912334296424, 0.09547413370302313, 0.10844936770145436, 0.08636948014068314, 0.12482717497428103, 0.08130532928658361, 0.07496157827055171, 0.10467702775395084, 0.055736039046020716, 0.10036717054837299, 0.07492181741522763, 0.07041256405055928, null, null, null, null, null, null, null, null, null, null, null, null, null, null, null, null, null, null, null, null, null, null, null, null, null, null, null, null, null, null, null, null, null, null, null, null, null, null, null, null, null, null, null, null, null, null, null, null, null, null, null, null, null]}],                        {\"template\": {\"data\": {\"bar\": [{\"error_x\": {\"color\": \"#2a3f5f\"}, \"error_y\": {\"color\": \"#2a3f5f\"}, \"marker\": {\"line\": {\"color\": \"#E5ECF6\", \"width\": 0.5}}, \"type\": \"bar\"}], \"barpolar\": [{\"marker\": {\"line\": {\"color\": \"#E5ECF6\", \"width\": 0.5}}, \"type\": \"barpolar\"}], \"carpet\": [{\"aaxis\": {\"endlinecolor\": \"#2a3f5f\", \"gridcolor\": \"white\", \"linecolor\": \"white\", \"minorgridcolor\": \"white\", \"startlinecolor\": \"#2a3f5f\"}, \"baxis\": {\"endlinecolor\": \"#2a3f5f\", \"gridcolor\": \"white\", \"linecolor\": \"white\", \"minorgridcolor\": \"white\", \"startlinecolor\": \"#2a3f5f\"}, \"type\": \"carpet\"}], \"choropleth\": [{\"colorbar\": {\"outlinewidth\": 0, \"ticks\": \"\"}, \"type\": \"choropleth\"}], \"contour\": [{\"colorbar\": {\"outlinewidth\": 0, \"ticks\": \"\"}, \"colorscale\": [[0.0, \"#0d0887\"], [0.1111111111111111, \"#46039f\"], [0.2222222222222222, \"#7201a8\"], [0.3333333333333333, \"#9c179e\"], [0.4444444444444444, \"#bd3786\"], [0.5555555555555556, \"#d8576b\"], [0.6666666666666666, \"#ed7953\"], [0.7777777777777778, \"#fb9f3a\"], [0.8888888888888888, \"#fdca26\"], [1.0, \"#f0f921\"]], \"type\": \"contour\"}], \"contourcarpet\": [{\"colorbar\": {\"outlinewidth\": 0, \"ticks\": \"\"}, \"type\": \"contourcarpet\"}], \"heatmap\": [{\"colorbar\": {\"outlinewidth\": 0, \"ticks\": \"\"}, \"colorscale\": [[0.0, \"#0d0887\"], [0.1111111111111111, \"#46039f\"], [0.2222222222222222, \"#7201a8\"], [0.3333333333333333, \"#9c179e\"], [0.4444444444444444, \"#bd3786\"], [0.5555555555555556, \"#d8576b\"], [0.6666666666666666, \"#ed7953\"], [0.7777777777777778, \"#fb9f3a\"], [0.8888888888888888, \"#fdca26\"], [1.0, \"#f0f921\"]], \"type\": \"heatmap\"}], \"heatmapgl\": [{\"colorbar\": {\"outlinewidth\": 0, \"ticks\": \"\"}, \"colorscale\": [[0.0, \"#0d0887\"], [0.1111111111111111, \"#46039f\"], [0.2222222222222222, \"#7201a8\"], [0.3333333333333333, \"#9c179e\"], [0.4444444444444444, \"#bd3786\"], [0.5555555555555556, \"#d8576b\"], [0.6666666666666666, \"#ed7953\"], [0.7777777777777778, \"#fb9f3a\"], [0.8888888888888888, \"#fdca26\"], [1.0, \"#f0f921\"]], \"type\": \"heatmapgl\"}], \"histogram\": [{\"marker\": {\"colorbar\": {\"outlinewidth\": 0, \"ticks\": \"\"}}, \"type\": \"histogram\"}], \"histogram2d\": [{\"colorbar\": {\"outlinewidth\": 0, \"ticks\": \"\"}, \"colorscale\": [[0.0, \"#0d0887\"], [0.1111111111111111, \"#46039f\"], [0.2222222222222222, \"#7201a8\"], [0.3333333333333333, \"#9c179e\"], [0.4444444444444444, \"#bd3786\"], [0.5555555555555556, \"#d8576b\"], [0.6666666666666666, \"#ed7953\"], [0.7777777777777778, \"#fb9f3a\"], [0.8888888888888888, \"#fdca26\"], [1.0, \"#f0f921\"]], \"type\": \"histogram2d\"}], \"histogram2dcontour\": [{\"colorbar\": {\"outlinewidth\": 0, \"ticks\": \"\"}, \"colorscale\": [[0.0, \"#0d0887\"], [0.1111111111111111, \"#46039f\"], [0.2222222222222222, \"#7201a8\"], [0.3333333333333333, \"#9c179e\"], [0.4444444444444444, \"#bd3786\"], [0.5555555555555556, \"#d8576b\"], [0.6666666666666666, \"#ed7953\"], [0.7777777777777778, \"#fb9f3a\"], [0.8888888888888888, \"#fdca26\"], [1.0, \"#f0f921\"]], \"type\": \"histogram2dcontour\"}], \"mesh3d\": [{\"colorbar\": {\"outlinewidth\": 0, \"ticks\": \"\"}, \"type\": \"mesh3d\"}], \"parcoords\": [{\"line\": {\"colorbar\": {\"outlinewidth\": 0, \"ticks\": \"\"}}, \"type\": \"parcoords\"}], \"pie\": [{\"automargin\": true, \"type\": \"pie\"}], \"scatter\": [{\"marker\": {\"colorbar\": {\"outlinewidth\": 0, \"ticks\": \"\"}}, \"type\": \"scatter\"}], \"scatter3d\": [{\"line\": {\"colorbar\": {\"outlinewidth\": 0, \"ticks\": \"\"}}, \"marker\": {\"colorbar\": {\"outlinewidth\": 0, \"ticks\": \"\"}}, \"type\": \"scatter3d\"}], \"scattercarpet\": [{\"marker\": {\"colorbar\": {\"outlinewidth\": 0, \"ticks\": \"\"}}, \"type\": \"scattercarpet\"}], \"scattergeo\": [{\"marker\": {\"colorbar\": {\"outlinewidth\": 0, \"ticks\": \"\"}}, \"type\": \"scattergeo\"}], \"scattergl\": [{\"marker\": {\"colorbar\": {\"outlinewidth\": 0, \"ticks\": \"\"}}, \"type\": \"scattergl\"}], \"scattermapbox\": [{\"marker\": {\"colorbar\": {\"outlinewidth\": 0, \"ticks\": \"\"}}, \"type\": \"scattermapbox\"}], \"scatterpolar\": [{\"marker\": {\"colorbar\": {\"outlinewidth\": 0, \"ticks\": \"\"}}, \"type\": \"scatterpolar\"}], \"scatterpolargl\": [{\"marker\": {\"colorbar\": {\"outlinewidth\": 0, \"ticks\": \"\"}}, \"type\": \"scatterpolargl\"}], \"scatterternary\": [{\"marker\": {\"colorbar\": {\"outlinewidth\": 0, \"ticks\": \"\"}}, \"type\": \"scatterternary\"}], \"surface\": [{\"colorbar\": {\"outlinewidth\": 0, \"ticks\": \"\"}, \"colorscale\": [[0.0, \"#0d0887\"], [0.1111111111111111, \"#46039f\"], [0.2222222222222222, \"#7201a8\"], [0.3333333333333333, \"#9c179e\"], [0.4444444444444444, \"#bd3786\"], [0.5555555555555556, \"#d8576b\"], [0.6666666666666666, \"#ed7953\"], [0.7777777777777778, \"#fb9f3a\"], [0.8888888888888888, \"#fdca26\"], [1.0, \"#f0f921\"]], \"type\": \"surface\"}], \"table\": [{\"cells\": {\"fill\": {\"color\": \"#EBF0F8\"}, \"line\": {\"color\": \"white\"}}, \"header\": {\"fill\": {\"color\": \"#C8D4E3\"}, \"line\": {\"color\": \"white\"}}, \"type\": \"table\"}]}, \"layout\": {\"annotationdefaults\": {\"arrowcolor\": \"#2a3f5f\", \"arrowhead\": 0, \"arrowwidth\": 1}, \"coloraxis\": {\"colorbar\": {\"outlinewidth\": 0, \"ticks\": \"\"}}, \"colorscale\": {\"diverging\": [[0, \"#8e0152\"], [0.1, \"#c51b7d\"], [0.2, \"#de77ae\"], [0.3, \"#f1b6da\"], [0.4, \"#fde0ef\"], [0.5, \"#f7f7f7\"], [0.6, \"#e6f5d0\"], [0.7, \"#b8e186\"], [0.8, \"#7fbc41\"], [0.9, \"#4d9221\"], [1, \"#276419\"]], \"sequential\": [[0.0, \"#0d0887\"], [0.1111111111111111, \"#46039f\"], [0.2222222222222222, \"#7201a8\"], [0.3333333333333333, \"#9c179e\"], [0.4444444444444444, \"#bd3786\"], [0.5555555555555556, \"#d8576b\"], [0.6666666666666666, \"#ed7953\"], [0.7777777777777778, \"#fb9f3a\"], [0.8888888888888888, \"#fdca26\"], [1.0, \"#f0f921\"]], \"sequentialminus\": [[0.0, \"#0d0887\"], [0.1111111111111111, \"#46039f\"], [0.2222222222222222, \"#7201a8\"], [0.3333333333333333, \"#9c179e\"], [0.4444444444444444, \"#bd3786\"], [0.5555555555555556, \"#d8576b\"], [0.6666666666666666, \"#ed7953\"], [0.7777777777777778, \"#fb9f3a\"], [0.8888888888888888, \"#fdca26\"], [1.0, \"#f0f921\"]]}, \"colorway\": [\"#636efa\", \"#EF553B\", \"#00cc96\", \"#ab63fa\", \"#FFA15A\", \"#19d3f3\", \"#FF6692\", \"#B6E880\", \"#FF97FF\", \"#FECB52\"], \"font\": {\"color\": \"#2a3f5f\"}, \"geo\": {\"bgcolor\": \"white\", \"lakecolor\": \"white\", \"landcolor\": \"#E5ECF6\", \"showlakes\": true, \"showland\": true, \"subunitcolor\": \"white\"}, \"hoverlabel\": {\"align\": \"left\"}, \"hovermode\": \"closest\", \"mapbox\": {\"style\": \"light\"}, \"paper_bgcolor\": \"white\", \"plot_bgcolor\": \"#E5ECF6\", \"polar\": {\"angularaxis\": {\"gridcolor\": \"white\", \"linecolor\": \"white\", \"ticks\": \"\"}, \"bgcolor\": \"#E5ECF6\", \"radialaxis\": {\"gridcolor\": \"white\", \"linecolor\": \"white\", \"ticks\": \"\"}}, \"scene\": {\"xaxis\": {\"backgroundcolor\": \"#E5ECF6\", \"gridcolor\": \"white\", \"gridwidth\": 2, \"linecolor\": \"white\", \"showbackground\": true, \"ticks\": \"\", \"zerolinecolor\": \"white\"}, \"yaxis\": {\"backgroundcolor\": \"#E5ECF6\", \"gridcolor\": \"white\", \"gridwidth\": 2, \"linecolor\": \"white\", \"showbackground\": true, \"ticks\": \"\", \"zerolinecolor\": \"white\"}, \"zaxis\": {\"backgroundcolor\": \"#E5ECF6\", \"gridcolor\": \"white\", \"gridwidth\": 2, \"linecolor\": \"white\", \"showbackground\": true, \"ticks\": \"\", \"zerolinecolor\": \"white\"}}, \"shapedefaults\": {\"line\": {\"color\": \"#2a3f5f\"}}, \"ternary\": {\"aaxis\": {\"gridcolor\": \"white\", \"linecolor\": \"white\", \"ticks\": \"\"}, \"baxis\": {\"gridcolor\": \"white\", \"linecolor\": \"white\", \"ticks\": \"\"}, \"bgcolor\": \"#E5ECF6\", \"caxis\": {\"gridcolor\": \"white\", \"linecolor\": \"white\", \"ticks\": \"\"}}, \"title\": {\"x\": 0.05}, \"xaxis\": {\"automargin\": true, \"gridcolor\": \"white\", \"linecolor\": \"white\", \"ticks\": \"\", \"title\": {\"standoff\": 15}, \"zerolinecolor\": \"white\", \"zerolinewidth\": 2}, \"yaxis\": {\"automargin\": true, \"gridcolor\": \"white\", \"linecolor\": \"white\", \"ticks\": \"\", \"title\": {\"standoff\": 15}, \"zerolinecolor\": \"white\", \"zerolinewidth\": 2}}}, \"title\": {\"text\": \"Deaths % Per Population Against % Leave <br> Correlation = 0.53\", \"x\": 0.5, \"y\": 0.85}, \"updatemenus\": [{\"active\": 1, \"buttons\": [{\"args\": [{\"visible\": [true, false]}, {\"title\": \"Cases % Per Population Against % Leave <br> Correlation = 0.28\"}], \"label\": \"Cases\", \"method\": \"update\"}, {\"args\": [{\"visible\": [false, true]}, {\"title\": \"Deaths % Per Population Against % Leave <br> Correlation = 0.53\"}], \"label\": \"Deaths\", \"method\": \"update\"}], \"y\": 1.35, \"yanchor\": \"top\"}], \"xaxis\": {\"tickfont\": {\"size\": 10}, \"title\": {\"font\": {\"size\": 25}, \"text\": \"% Leave\"}}, \"yaxis\": {\"title\": {\"font\": {\"size\": 25}, \"text\": \"% Per Population\"}}},                        {\"scrollZoom\": false, \"displayModeBar\": false, \"editable\": false, \"responsive\": true}                    ).then(function(){\n",
       "                            \n",
       "var gd = document.getElementById('726c47cb-8326-4361-b630-64b8fff1d10f');\n",
       "var x = new MutationObserver(function (mutations, observer) {{\n",
       "        var display = window.getComputedStyle(gd).display;\n",
       "        if (!display || display === 'none') {{\n",
       "            console.log([gd, 'removed!']);\n",
       "            Plotly.purge(gd);\n",
       "            observer.disconnect();\n",
       "        }}\n",
       "}});\n",
       "\n",
       "// Listen for the removal of the full notebook cells\n",
       "var notebookContainer = gd.closest('#notebook-container');\n",
       "if (notebookContainer) {{\n",
       "    x.observe(notebookContainer, {childList: true});\n",
       "}}\n",
       "\n",
       "// Listen for the clearing of the current output cell\n",
       "var outputEl = gd.closest('.output');\n",
       "if (outputEl) {{\n",
       "    x.observe(outputEl, {childList: true});\n",
       "}}\n",
       "\n",
       "                        })                };                });            </script>        </div>"
      ]
     },
     "metadata": {},
     "output_type": "display_data"
    }
   ],
   "source": [
    "fig = go.Figure()\n",
    "\n",
    "\n",
    "fig = go.Figure(data=[\n",
    "    go.Scatter(name = 'Cases', x=covid_cases['Pct_Leave'],y=covid_cases['PctOfPop'],mode='markers',visible=False,\n",
    "              hovertext=covid_cases['areaName']),\n",
    "    go.Scatter(name = 'Deaths', x=covid_deaths['Pct_Leave'],y=covid_deaths['PctOfPop'],mode='markers',\n",
    "               hovertext=covid_cases['areaName']),\n",
    "])\n",
    "\n",
    "fig.update_layout(\n",
    "    updatemenus=[\n",
    "        dict(\n",
    "        active=1,\n",
    "        y = 1.35,\n",
    "        yanchor = 'top',\n",
    "        buttons=list([\n",
    "            dict(\n",
    "            label='Cases',\n",
    "            method='update',\n",
    "            args=[{'visible' : [True,False]},\n",
    "                 {'title' : 'Cases % Per Population Against % Leave <br> Correlation = 0.28'}]),\n",
    "            dict(\n",
    "            label='Deaths',\n",
    "            method='update',\n",
    "            args=[{'visible' : [False,True]},\n",
    "                 {'title' : 'Deaths % Per Population Against % Leave <br> Correlation = 0.53'}]),\n",
    "        ]))],\n",
    "        title={'text' : 'Deaths % Per Population Against % Leave <br> Correlation = 0.53',\n",
    "              'y' : 0.85,\n",
    "              'x' : 0.5,}\n",
    ")\n",
    "\n",
    "\n",
    "fig.update_xaxes(\n",
    "    title_text='% Leave',\n",
    "    title_font={\"size\":25},\n",
    "    tickfont = {'size' : 10}\n",
    ")\n",
    "\n",
    "fig.update_yaxes(\n",
    "    title_text='% Per Population',\n",
    "    title_font={\"size\":25},\n",
    ")\n",
    "\n",
    "config = {\n",
    "    'scrollZoom': False,\n",
    "    'displayModeBar': False,\n",
    "    'editable': False\n",
    "}\n",
    "\n",
    "fig.show(config = config)"
   ]
  },
  {
   "cell_type": "markdown",
   "metadata": {},
   "source": [
    "<img src='scatter.PNG'>"
   ]
  },
  {
   "cell_type": "code",
   "execution_count": null,
   "metadata": {},
   "outputs": [],
   "source": []
  }
 ],
 "metadata": {
  "kernelspec": {
   "display_name": "Python 3.7 (tensorflow)",
   "language": "python",
   "name": "tensorflow"
  },
  "language_info": {
   "codemirror_mode": {
    "name": "ipython",
    "version": 3
   },
   "file_extension": ".py",
   "mimetype": "text/x-python",
   "name": "python",
   "nbconvert_exporter": "python",
   "pygments_lexer": "ipython3",
   "version": "3.7.6"
  }
 },
 "nbformat": 4,
 "nbformat_minor": 2
}
