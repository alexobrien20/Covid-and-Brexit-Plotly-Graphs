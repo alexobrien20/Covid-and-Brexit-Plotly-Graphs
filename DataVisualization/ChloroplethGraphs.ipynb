{
 "cells": [
  {
   "cell_type": "code",
   "execution_count": 1,
   "metadata": {},
   "outputs": [],
   "source": [
    "import numpy as np\n",
    "import pandas as pd\n",
    "import plotly.express as px\n",
    "import json"
   ]
  },
  {
   "cell_type": "code",
   "execution_count": 3,
   "metadata": {},
   "outputs": [],
   "source": [
    "brexit_region_data = pd.read_csv('brexit_region_data.csv')\n",
    "with open(\"all_eer.geojson\") as f:\n",
    "    regional_json = json.load(f) \n",
    "regional_json['features'][5]['properties']['EER13NM'] = 'East'  \n",
    "covid_region_data = pd.read_csv('covid_data_map.csv')   "
   ]
  },
  {
   "cell_type": "code",
   "execution_count": null,
   "metadata": {},
   "outputs": [],
   "source": [
    "import plotly.graph_objects as go\n",
    "fig = go.Figure(data=[\n",
    "                go.Choropleth(\n",
    "                geojson=regional_json, z=covid_region_data['pctOfPop'],\n",
    "                locations=covid_region_data[\"areaName\"], featureidkey=\"properties.EER13NM\",\n",
    "                visible=False, colorscale=[[0,'rgb(0,0,255)'],[1,'rgb(255,0,0)']],name='Cases Percentage',),\n",
    "                go.Choropleth(\n",
    "                geojson=regional_json, z=brexit_region_data['Pct_Leave'],\n",
    "                locations=brexit_region_data[\"Region\"], featureidkey=\"properties.EER13NM\",\n",
    "                colorscale=[[0,'rgb(0,0,255)'],[1,'rgb(255,0,0)']],name='Cases Percentage',)])\n",
    " \n",
    "    \n",
    "fig.update_layout(\n",
    "    updatemenus=[\n",
    "        dict(\n",
    "        active=1,\n",
    "        y = 1,\n",
    "        x = 0.35,\n",
    "        #yanchor = 'top',\n",
    "        #xanchor ='right',\n",
    "        buttons=list([\n",
    "            dict(\n",
    "            label='Covid Map',\n",
    "            method='update',\n",
    "            args=[{'visible' : [True,False]},\n",
    "                 {'title' : 'Covid Region Map'}]),\n",
    "            dict(\n",
    "            label='Brexit Map',\n",
    "            method='update',\n",
    "            args=[{'visible' : [False,True]},\n",
    "                 {'title' : 'Brexit Region Map'}]),\n",
    "        ])),\n",
    "    ],\n",
    "    title={\n",
    "        'text' : 'Brexit Region Map',\n",
    "        'y':0.95,\n",
    "        'x':0.5,\n",
    "        'xanchor': 'center',\n",
    "        'yanchor': 'top',},\n",
    "    )\n",
    "\n",
    "config = {\n",
    "    'scrollZoom': False,\n",
    "    'displayModeBar': False,\n",
    "    'editable': False\n",
    "}\n",
    "\n",
    "fig.update_geos(fitbounds=\"locations\", visible=False)\n",
    "fig.update_layout(margin={\"r\":0,\"t\":0,\"l\":0,\"b\":0})\n",
    "fig.show(config=config)"
   ]
  },
  {
   "cell_type": "markdown",
   "metadata": {},
   "source": [
    "<img src='Images/map.PNG'>"
   ]
  },
  {
   "cell_type": "code",
   "execution_count": null,
   "metadata": {},
   "outputs": [],
   "source": []
  }
 ],
 "metadata": {
  "kernelspec": {
   "display_name": "Python 3.7 (tensorflow)",
   "language": "python",
   "name": "tensorflow"
  },
  "language_info": {
   "codemirror_mode": {
    "name": "ipython",
    "version": 3
   },
   "file_extension": ".py",
   "mimetype": "text/x-python",
   "name": "python",
   "nbconvert_exporter": "python",
   "pygments_lexer": "ipython3",
   "version": "3.7.6"
  }
 },
 "nbformat": 4,
 "nbformat_minor": 2
}
